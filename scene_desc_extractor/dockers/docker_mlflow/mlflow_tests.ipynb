{
 "cells": [
  {
   "cell_type": "code",
   "execution_count": 2,
   "id": "initial_id",
   "metadata": {
    "collapsed": true,
    "ExecuteTime": {
     "end_time": "2024-03-27T11:29:09.627895474Z",
     "start_time": "2024-03-27T11:29:09.584061708Z"
    }
   },
   "outputs": [],
   "source": [
    "import mlflow\n",
    "from mlflow.models.signature import infer_signature \n",
    "import os"
   ]
  },
  {
   "cell_type": "code",
   "outputs": [],
   "source": [
    "ENV_FILE = '.env'\n",
    "EXPERIMENT_NAME = 'mlflow-test'"
   ],
   "metadata": {
    "collapsed": false
   },
   "id": "46b12c7993c7591d"
  },
  {
   "cell_type": "code",
   "outputs": [],
   "source": [
    "def get_params(env_file_path):\n",
    "    with open(os.path.join(env_file_path), 'r') as fh:\n",
    "        vars_dict = dict(\n",
    "            tuple(line.replace('\\n', '').split('='))\n",
    "            for line in fh.readlines() if not line.startswith('#')\n",
    "        )\n",
    "    return vars_dict"
   ],
   "metadata": {
    "collapsed": false,
    "ExecuteTime": {
     "end_time": "2024-03-27T11:37:43.475970343Z",
     "start_time": "2024-03-27T11:37:43.432333934Z"
    }
   },
   "id": "19a73c2919360776",
   "execution_count": 3
  },
  {
   "cell_type": "code",
   "outputs": [
    {
     "data": {
      "text/plain": "{'MLFLOW_URI': 'http://localhost',\n 'MLFLOW_PORT': '5010',\n 'DB_PORT': '5455',\n 'POSTGRES_USER': 'mlflow',\n 'POSTGRES_PASSWORD': 'mlflow',\n 'POSTGRES_DB': 'mlflow',\n 'S3_BUCKET': 's3://air-pol-mlflow-bucket',\n 'S3_ACCESS_KEY_ID': 'jwtnrbj46kqjuds5gi6zbrxcua3a',\n 'S3_SECRET_ACCESS_KEY': 'j27itcgzrt6a3g4bgcqfcmfgcximgs3jmfc3x4xtfpxg3lfwm73rk',\n 'S3_URI': 'https://gateway.storjshare.io'}"
     },
     "execution_count": 4,
     "metadata": {},
     "output_type": "execute_result"
    }
   ],
   "source": [
    "env_values = get_params('.env')\n",
    "mlflow.set_tracking_uri(f'{env_values.get(\"MLFLOW_URI\")}:{env_values.get(\"MLFLOW_PORT\")}')\n",
    "mlflow.set_experiment(EXPERIMENT_NAME)"
   ],
   "metadata": {
    "collapsed": false,
    "ExecuteTime": {
     "end_time": "2024-03-27T11:38:00.024644837Z",
     "start_time": "2024-03-27T11:37:59.983216620Z"
    }
   },
   "id": "b4ee4937b9204c99",
   "execution_count": 4
  },
  {
   "cell_type": "code",
   "outputs": [],
   "source": [
    "run_name = 'test_run'\n",
    "run_id = 0\n",
    "run = mlflow.start_run()\n",
    "#mlflow.set_tag(\"mlflow.runName\", run_name)\n",
    "run_id = mlflow.last_active_run().info.run_id if run_id == 0 else run_id\n",
    "mlflow.tracking.MlflowClient().set_tag(run_id, \"mlflow.runName\", run_name)\n",
    "mlflow.pytorch.autolog()"
   ],
   "metadata": {
    "collapsed": false
   },
   "id": "c8339d2b953a937a"
  },
  {
   "cell_type": "code",
   "outputs": [],
   "source": [
    "model_params = {}\n",
    "artifact_file = \"pipeline/pipeline_params.yaml\"\n",
    "with mlflow.start_run(run_id=run_id):\n",
    "    mlflow.log_dict(model_params, artifact_file)"
   ],
   "metadata": {
    "collapsed": false
   },
   "id": "f3391d60b5ee31a0"
  },
  {
   "cell_type": "code",
   "outputs": [],
   "source": [
    "output_onnx_file_path = \"pipeline/pipeline.onnx\"\n",
    "artifact_path = \"onnx\"\n",
    "with mlflow.start_run(run_id=run_id):\n",
    "    mlflow.log_artifact(output_onnx_file_path, artifact_path)"
   ],
   "metadata": {
    "collapsed": false
   },
   "id": "754f3492a096bcd8"
  },
  {
   "cell_type": "code",
   "outputs": [],
   "source": [
    "metric_name = 'mse'\n",
    "train_score = 0\n",
    "val_score = 0\n",
    "with mlflow.start_run(run_id=run_id):\n",
    "    mlflow.log_metric(f'train_{metric_name}_all', train_score)\n",
    "    mlflow.log_metric(f'val_{metric_name}_all', val_score)"
   ],
   "metadata": {
    "collapsed": false
   },
   "id": "99c5b592239d51ad"
  },
  {
   "cell_type": "code",
   "outputs": [],
   "source": [
    "mlflow.end_run()"
   ],
   "metadata": {
    "collapsed": false
   },
   "id": "5cd0b4023ec82dac"
  }
 ],
 "metadata": {
  "kernelspec": {
   "display_name": "Python 3",
   "language": "python",
   "name": "python3"
  },
  "language_info": {
   "codemirror_mode": {
    "name": "ipython",
    "version": 2
   },
   "file_extension": ".py",
   "mimetype": "text/x-python",
   "name": "python",
   "nbconvert_exporter": "python",
   "pygments_lexer": "ipython2",
   "version": "2.7.6"
  }
 },
 "nbformat": 4,
 "nbformat_minor": 5
}
