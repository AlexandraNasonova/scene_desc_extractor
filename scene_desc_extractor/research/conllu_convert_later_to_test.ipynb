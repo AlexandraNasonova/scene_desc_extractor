{
 "cells": [
  {
   "cell_type": "markdown",
   "source": [
    "# Entity marks ##"
   ],
   "metadata": {
    "collapsed": false
   },
   "id": "2efde2d1f818b610"
  },
  {
   "cell_type": "markdown",
   "source": [
    "For flat entities:\n",
    "\n",
    "I - Word is inside a phrase of type TYPE\n",
    "B - If two phrases of the same type immediately follow each other, the first word of the second phrase will have tag B-TYPE \n",
    "O - Word is not part of a phrase\n",
    "E - End ( E will not appear in a prefix-only partial match )\n",
    "S - Single"
   ],
   "metadata": {
    "collapsed": false
   },
   "id": "430fb1826997064d"
  },
  {
   "cell_type": "markdown",
   "source": [
    "For nested entities:\n",
    "\n",
    "B - Begin: The first word of a multi-word entity.\n",
    "I - Inside: Any non-initial word of a multi-word entity. (M - middle)\n",
    "L - Last: The last word of a multi-word entity. (E - end)\n",
    "U - Unit: A single-word entity.\n",
    "O - Outside: A word that is not part of any entity. (S / Single)\n",
    "\n",
    "BILOU or IOBES"
   ],
   "metadata": {
    "collapsed": false
   },
   "id": "8c75077d6303b1f5"
  },
  {
   "cell_type": "code",
   "outputs": [],
   "source": [
    "# Define BILOU tags\n",
    "bilou_tags = [\"B\", \"I\", \"L\", \"U\", \"O\"]\n",
    "START_SENTENCE_TOKEN = '[CLS]'\n",
    "SEP_SENTENCE_TOKEN = '[SEP]'"
   ],
   "metadata": {
    "collapsed": false,
    "ExecuteTime": {
     "end_time": "2024-04-15T17:39:49.096564807Z",
     "start_time": "2024-04-15T17:39:49.093679728Z"
    }
   },
   "id": "302ce357ea4f90ba",
   "execution_count": 1
  },
  {
   "cell_type": "markdown",
   "source": [
    "## Dependencies ##\n",
    "\n",
    "https://wiki.gucorpling.org/gum/dependencies\n",
    "\n",
    "List of dependency function labels used in GUM\n",
    "\n",
    "    acl\n",
    "    acl:relcl\n",
    "    advcl\n",
    "    advcl:relcl\n",
    "    advmod\n",
    "    amod\n",
    "    appos\n",
    "    aux\n",
    "    aux:pass\n",
    "    case\n",
    "    cc\n",
    "    cc:preconj\n",
    "    ccomp\n",
    "    compound\n",
    "    compound:prt\n",
    "    conj\n",
    "    cop\n",
    "    csubj\n",
    "    csubj:pass\n",
    "    dep\n",
    "    det\n",
    "    det:predet\n",
    "    discourse\n",
    "    dislocated\n",
    "    expl\n",
    "    fixed\n",
    "    flat\n",
    "    goeswith\n",
    "    iobj\n",
    "    list\n",
    "    mark\n",
    "    nmod\n",
    "    nmod:npmod\n",
    "    nmod:tmod\n",
    "    nmod:poss\n",
    "    nsubj\n",
    "    nsubj:pass\n",
    "    nummod\n",
    "    obj\n",
    "    obl\n",
    "    obl:agent\n",
    "    obl:npmod\n",
    "    obl:tmod\n",
    "    orphan\n",
    "    parataxis\n",
    "    punct\n",
    "    reparandum\n",
    "    root\n",
    "    vocative\n",
    "    xcomp"
   ],
   "metadata": {
    "collapsed": false
   },
   "id": "199ee6d0eac82a45"
  },
  {
   "cell_type": "markdown",
   "source": [
    "## Entities types\n",
    " \n",
    "https://wiki.gucorpling.org/gum/entities\n",
    "\n",
    "There are 10 entity type:\n",
    "\n",
    "    person - any person, including fictitious figures, groups of people, and semi-human entities (Pinocchio)\n",
    "    place - a country (Iceland), region (Sahara)), or other place being referred to as a location (the factory - when used as a place, not to refer to the physical building)\n",
    "    organization - a company, government, sports team and others\n",
    "    object - a concrete tangible object\n",
    "    event - includes reference to nouns ('War', 'the performance') and clauses that are referred back to ('that John came')\n",
    "    time - dates, times of day, days, years...\n",
    "    substance - water, mercury, gas, poison ... includes context-dependent substances, such as Skittles or baking chocolate\n",
    "    animal - any animal, potentially including bacteria, aliens and others construed as animals\n",
    "    plant - interpreted broadly to include fruits, seeds and other living plant parts, but not substances (e.g. 'wood' is not classified as a plant)\n",
    "    abstract - abstract notions (luck), emotions (excitement) or intangible properties (predisposition)"
   ],
   "metadata": {
    "collapsed": false
   },
   "id": "d8774a14534fbf71"
  },
  {
   "cell_type": "markdown",
   "source": [
    "## Entity salience\n",
    "\n",
    "https://wiki.gucorpling.org/gum/entities\n",
    "\n",
    "An entity is considered salient if and only if it appears in the summary of a document\n",
    "Annotate the first mention of a salient entity as salient, there is no need to annotate subsequent mentions as salient\n",
    "\n",
    "In the header: \n",
    "\n",
    "meta::salientEntities = 1, 2, 36, 41, 42, 46, 76, 99"
   ],
   "metadata": {
    "collapsed": false
   },
   "id": "3a12aa133ca19a5f"
  },
  {
   "cell_type": "markdown",
   "source": [
    "## Coreference\n",
    "\n",
    "https://wiki.gucorpling.org/gum/entities"
   ],
   "metadata": {
    "collapsed": false
   },
   "id": "81296d720ee5e759"
  },
  {
   "cell_type": "code",
   "outputs": [
    {
     "data": {
      "text/plain": "[('(6-abstract', ''), ('', ')'), ('', '4)')]"
     },
     "execution_count": 2,
     "metadata": {},
     "output_type": "execute_result"
    }
   ],
   "source": [
    "import re\n",
    "entity_tag = 'Entity=(6-abstract-giv:act-cf2-1-ana)4)'\n",
    "re.findall(r'(\\(\\d+-\\w+)(?=-|\\:)|(\\d*?\\))', entity_tag)"
   ],
   "metadata": {
    "collapsed": false,
    "ExecuteTime": {
     "end_time": "2024-04-15T17:39:49.145458922Z",
     "start_time": "2024-04-15T17:39:49.135854951Z"
    }
   },
   "id": "9fe05c169f6ebbb9",
   "execution_count": 2
  },
  {
   "cell_type": "code",
   "outputs": [],
   "source": [
    "import conllu_converter\n",
    "\n",
    "converter = conllu_converter.ConlluFilesConverter(max_level=3) \n",
    "converter.convert_and_save_folder(source_folder='../datasets/gum/dep', \n",
    "                                  target_text_folder='../datasets/gum_parsed/texts',\n",
    "                                  coref_dict_folder='../datasets/gum_parsed/coref_dict',\n",
    "                                  target_labels_folder='../datasets/gum_parsed/labels',\n",
    "                                  files_mapping_file_path='../datasets/gum_parsed/files_mapping.txt'\n",
    "                                  )"
   ],
   "metadata": {
    "collapsed": false,
    "ExecuteTime": {
     "end_time": "2024-04-15T17:42:05.122723591Z",
     "start_time": "2024-04-15T17:42:04.239649202Z"
    }
   },
   "id": "cc56472b2a666e8b",
   "execution_count": 1
  },
  {
   "cell_type": "code",
   "outputs": [],
   "source": [
    "converter.convert_and_save_file(source_file_path='../datasets/gum/dep/GUM_fiction_error.conllu',\n",
    "                                target_text_file_path='../datasets/gum_parsed/texts/1.txt',\n",
    "                                target_labels_file_path='../datasets/gum_parsed/labels/1.txt',\n",
    "                                coref_dict_file_path='../datasets/gum_parsed/coref_dict/1.txt')\n",
    "converter.convert_and_save_file(source_file_path='../datasets/gum/dep/GUM_fiction_falling.conllu',\n",
    "                                target_text_file_path='../datasets/gum_parsed/texts/2.txt',\n",
    "                                target_labels_file_path='../datasets/gum_parsed/labels/2.txt',\n",
    "                                coref_dict_file_path='../datasets/gum_parsed/coref_dict/2.txt')"
   ],
   "metadata": {
    "collapsed": false,
    "ExecuteTime": {
     "end_time": "2024-04-15T03:47:33.857424553Z",
     "start_time": "2024-04-15T03:47:32.927575895Z"
    }
   },
   "id": "74865a90c011d75b",
   "execution_count": 2
  }
 ],
 "metadata": {
  "kernelspec": {
   "display_name": "Python 3",
   "language": "python",
   "name": "python3"
  },
  "language_info": {
   "codemirror_mode": {
    "name": "ipython",
    "version": 2
   },
   "file_extension": ".py",
   "mimetype": "text/x-python",
   "name": "python",
   "nbconvert_exporter": "python",
   "pygments_lexer": "ipython2",
   "version": "2.7.6"
  }
 },
 "nbformat": 4,
 "nbformat_minor": 5
}
