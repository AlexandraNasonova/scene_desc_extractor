{
 "cells": [
  {
   "cell_type": "markdown",
   "source": [
    "https://spacy.io/api/data-formats#named-entities\n",
    "\n",
    "https://spacy.io/api/cli#convert\n",
    "\n",
    "For NER-only data, use -c ner\n",
    "https://github.com/explosion/spaCy/tree/master/extra/example_data/ner_example_data\n"
   ],
   "metadata": {
    "collapsed": false
   },
   "id": "9221b65af22d836f"
  },
  {
   "cell_type": "markdown",
   "source": [
    "Example:\n",
    "Dr. med. XYZ DEF (Principal Investigator) XYZ ABC (Co-investigator), Dr. med. XYZ RST (Independent Rater)\n",
    "\n",
    "\n",
    "Dr.    O\n",
    "med    O\n",
    ".    O\n",
    "XYZ    B-PERSON\n",
    "DEF    L-PERSON\n",
    "(    O\n",
    "Principal    B-ROLE\n",
    "Investigator    L-ROLE\n",
    ")    O\n",
    "XYZ    B-PERSON\n",
    "ABC    L-PERSON\n",
    "(    O\n",
    "Co    B-ROLE\n",
    "-    I-ROLE\n",
    "investigator    L-ROLE\n",
    ")    O\n",
    ",    O\n",
    "Dr.    O\n",
    "med    O\n",
    ".    O\n",
    "XYZ    B-PERSON\n",
    "RST    L-PERSON\n",
    "(    O\n",
    "Independent    B-ROLE\n",
    "Rater    L-ROLE\n",
    ")    O\n"
   ],
   "metadata": {
    "collapsed": false
   },
   "id": "f804e859088106d1"
  },
  {
   "cell_type": "markdown",
   "source": [
    "Example 2:\n",
    "\n",
    "John lives in New York City and works for Apple Inc.\n",
    "    \n",
    "John        B-PERSON\n",
    "lives       O\n",
    "in          O\n",
    "New         B-LOCATION\n",
    "York        I-LOCATION\n",
    "City        L-LOCATION\n",
    "and         O\n",
    "works       O\n",
    "for         O\n",
    "Apple       B-ORGANIZATION\n",
    "Inc.        L-ORGANIZATION"
   ],
   "metadata": {
    "collapsed": false
   },
   "id": "8ee997fe17434227"
  },
  {
   "cell_type": "code",
   "outputs": [],
   "source": [
    "import spacy\n",
    "from spacy.training import Example\n",
    "\n",
    "# Load a blank English model\n",
    "nlp = spacy.blank(\"en\")\n",
    "\n",
    "# Define your training data\n",
    "TRAIN_DATA = [\n",
    "    (\"John lives in New York and works for Apple Inc.\", {\"entities\": [(0, 4, \"B-PERSON\"), (16, 19, \"B-LOCATION\"), (20, 24, \"L-LOCATION\"), (38, 43, \"B-ORGANIZATION\"), (44, 47, \"L-ORGANIZATION\")]}),\n",
    "    # Add more examples as needed\n",
    "]\n",
    "\n",
    "# Define BILOU tags\n",
    "bilou_tags = [\"B\", \"I\", \"L\", \"U\", \"O\"]\n",
    "\n",
    "# Add NER component to the pipeline\n",
    "ner = nlp.add_pipe(\"ner\", last=True)\n",
    "\n",
    "# Add BILOU tags to the NER component\n",
    "ner.add_label(\"B-PERSON\")\n",
    "ner.add_label(\"I-PERSON\")\n",
    "ner.add_label(\"L-PERSON\")\n",
    "ner.add_label(\"U-PERSON\")\n",
    "# Add more labels for other entity types\n",
    "\n",
    "\n",
    "# # Add BILOU tags to the NER component\n",
    "# for label in bilou_tags:\n",
    "#     ner.add_label(label + \"-PERSON\")\n",
    "#     ner.add_label(label + \"-LOCATION\")\n",
    "#     ner.add_label(label + \"-ORGANIZATION\")\n",
    "#     # Add more labels for other entity types\n",
    "\n",
    "\n",
    "# Initialize the training loop\n",
    "nlp.begin_training()\n",
    "\n",
    "# Train the model\n",
    "for itn in range(10):\n",
    "    # Shuffle the training data\n",
    "    random.shuffle(TRAIN_DATA)\n",
    "    # Iterate over the training examples\n",
    "    for example in TRAIN_DATA:\n",
    "        text, annotations = example\n",
    "        # Create a spaCy Example object\n",
    "        doc = nlp.make_doc(text)\n",
    "        example = Example.from_dict(doc, annotations)\n",
    "        # Update the model with the example\n",
    "        nlp.update([example])\n",
    "\n",
    "# Save the trained model\n",
    "nlp.to_disk(\"/path/to/your/trained/model\")"
   ],
   "metadata": {
    "collapsed": false
   },
   "id": "731370509e8d9159"
  },
  {
   "cell_type": "code",
   "outputs": [],
   "source": [
    "# Load the trained model\n",
    "nlp = spacy.load(\"/path/to/your/trained/model\")\n",
    "\n",
    "# Process new text\n",
    "text = \"John lives in New York and works for Apple Inc.\"\n",
    "doc = nlp(text)\n",
    "\n",
    "# Print entities\n",
    "for ent in doc.ents:\n",
    "    print(ent.text, ent.label_)"
   ],
   "metadata": {
    "collapsed": false
   },
   "id": "c097c637740a21eb"
  }
 ],
 "metadata": {
  "kernelspec": {
   "display_name": "Python 3",
   "language": "python",
   "name": "python3"
  },
  "language_info": {
   "codemirror_mode": {
    "name": "ipython",
    "version": 2
   },
   "file_extension": ".py",
   "mimetype": "text/x-python",
   "name": "python",
   "nbconvert_exporter": "python",
   "pygments_lexer": "ipython2",
   "version": "2.7.6"
  }
 },
 "nbformat": 4,
 "nbformat_minor": 5
}
