{
 "cells": [
  {
   "cell_type": "markdown",
   "metadata": {},
   "source": [
    "# Introduction\n",
    "Udapi is an API and framework for processing [Universal Dependencies](http://universaldependencies.org/). In this tutorial, we will focus on the Python version of Udapi. Perl and Java versions are [available](http://udapi.github.io/) as well, but they are missing some of the features.\n",
    "\n",
    "Udapi can be used from the shell (e.g. Bash), using the wrapper script `udapy`. It can be also used as a library, from Python, IPython or Jupyter notebooks. We will show both of these ways bellow.\n",
    "\n",
    "This tutorial uses Details sections for extra info (if you want to know more or if you run into problems). You need to click on it to show its content.\n",
    "<details><summary>Details</summary>\n",
    "It is a substitute for footnotes. The content may be long and showing it in the main text may be distracting.\n",
    "</details>\n",
    "\n",
    "### Install (upgrade) Udapi\n",
    "First, make sure you have the newest version of Udapi. If you have already installed Udapi [using git clone](https://github.com/udapi/udapi-python#install-udapi-for-developers), just run `git pull`. If you have not installed Udapi yet, run\n",
    "<details><summary>Details</summary>\n",
    "<ul>\n",
    "  <li> The command below installs Udapi from GitHub (from the master branch). With <code>pip3 install --user --upgrade udapi</code>, you can install the last version released on PyPI (possibly older).\n",
    "  <li> The exclamation mark (!) in Jupyter or IPython means that the following command will be executed by the system shell (e.g. Bash).\n",
    "</ul>\n",
    "</details>"
   ]
  },
  {
   "cell_type": "code",
   "execution_count": 2,
   "metadata": {
    "ExecuteTime": {
     "end_time": "2024-03-23T11:08:59.704766017Z",
     "start_time": "2024-03-23T11:08:55.853173597Z"
    }
   },
   "outputs": [
    {
     "name": "stdout",
     "output_type": "stream",
     "text": [
      "Collecting git+https://github.com/udapi/udapi-python.git\r\n",
      "  Cloning https://github.com/udapi/udapi-python.git to /tmp/pip-req-build-weedeujv\r\n",
      "  Running command git clone --filter=blob:none --quiet https://github.com/udapi/udapi-python.git /tmp/pip-req-build-weedeujv\r\n",
      "  Resolved https://github.com/udapi/udapi-python.git to commit 19fe22939699b383355b0c0dc2764f8c5792f39d\r\n",
      "  Installing build dependencies ... \u001B[?25ldone\r\n",
      "\u001B[?25h  Getting requirements to build wheel ... \u001B[?25ldone\r\n",
      "\u001B[?25h  Preparing metadata (pyproject.toml) ... \u001B[?25ldone\r\n",
      "\u001B[?25hCollecting colorama (from udapi==0.3.0)\r\n",
      "  Downloading colorama-0.4.6-py2.py3-none-any.whl.metadata (17 kB)\r\n",
      "Collecting termcolor (from udapi==0.3.0)\r\n",
      "  Using cached termcolor-2.4.0-py3-none-any.whl.metadata (6.1 kB)\r\n",
      "Using cached colorama-0.4.6-py2.py3-none-any.whl (25 kB)\r\n",
      "Using cached termcolor-2.4.0-py3-none-any.whl (7.7 kB)\r\n",
      "Building wheels for collected packages: udapi\r\n",
      "  Building wheel for udapi (pyproject.toml) ... \u001B[?25ldone\r\n",
      "\u001B[?25h  Created wheel for udapi: filename=udapi-0.3.0-py3-none-any.whl size=310353 sha256=2bcbd53e3633757b8a9862760e4bc5fff4c1fa44e593d742d74c6aefb6b40d6a\r\n",
      "  Stored in directory: /tmp/pip-ephem-wheel-cache-9xt34d76/wheels/93/69/68/34527969ed70462cefeb12b4f8d13781177e0b6c673d7ec2eb\r\n",
      "Successfully built udapi\r\n",
      "Installing collected packages: termcolor, colorama, udapi\r\n",
      "Successfully installed colorama-0.4.6 termcolor-2.4.0 udapi-0.3.0\r\n"
     ]
    }
   ],
   "source": [
    "!pip3 install --upgrade git+https://github.com/udapi/udapi-python.git"
   ]
  },
  {
   "cell_type": "markdown",
   "metadata": {},
   "source": [
    "Now, make sure you can run the command-line interface `udapy`, e.g. by printing the help message."
   ]
  },
  {
   "cell_type": "code",
   "execution_count": 3,
   "metadata": {
    "collapsed": true,
    "ExecuteTime": {
     "end_time": "2024-03-23T11:09:11.140871466Z",
     "start_time": "2024-03-23T11:09:11.001807850Z"
    }
   },
   "outputs": [
    {
     "name": "stdout",
     "output_type": "stream",
     "text": [
      "usage: udapy [optional_arguments] scenario\r\n",
      "\r\n",
      "udapy - Python interface to Udapi - API for Universal Dependencies\r\n",
      "\r\n",
      "Examples of usage:\r\n",
      "  udapy -s read.Sentences udpipe.En < in.txt > out.conllu\r\n",
      "  udapy -T < sample.conllu | less -R\r\n",
      "  udapy -HAM ud.MarkBugs < sample.conllu > bugs.html\r\n",
      "\r\n",
      "positional arguments:\r\n",
      "  scenario              A sequence of blocks and their parameters.\r\n",
      "\r\n",
      "options:\r\n",
      "  -h, --help            show this help message and exit\r\n",
      "  -q, --quiet           Warning, info and debug messages are suppressed. Only fatal errors are reported.\r\n",
      "  -v, --verbose         Warning, info and debug messages are printed to the STDERR.\r\n",
      "  -s, --save            Add write.Conllu to the end of the scenario\r\n",
      "  -T, --save_text_mode_trees\r\n",
      "                        Add write.TextModeTrees color=1 to the end of the scenario\r\n",
      "  -H, --save_html       Add write.TextModeTreesHtml color=1 to the end of the scenario\r\n",
      "  -A, --save_all_attributes\r\n",
      "                        Add attributes=form,lemma,upos,xpos,feats,deprel,misc (to be used after -T and -H)\r\n",
      "  -C, --save_comments   Add print_comments=1 (to be used after -T and -H)\r\n",
      "  -M, --marked_only     Add marked_only=1 to the end of the scenario (to be used after -T and -H)\r\n",
      "  -N, --no_color        Add color=0 to the end of the scenario, this overrides color=1 of -T and -H\r\n",
      "  -X EXTRA, --extra EXTRA\r\n",
      "                        Add a specified parameter (or a block name) to the end of the scenario\r\n",
      "                        For example 'udapy -TNX attributes=form,misc -X layout=align < my.conllu'\r\n",
      "  --gc                  By default, udapy disables Python garbage collection and at-exit cleanup\r\n",
      "                        to speed up everything (especially reading CoNLL-U files). In edge cases,\r\n",
      "                        when processing many files and running out of memory, you can disable this\r\n",
      "                        optimization (i.e. enable garbage collection) with 'udapy --gc'.\r\n",
      "\r\n",
      "See http://udapi.github.io\r\n"
     ]
    }
   ],
   "source": [
    "!udapy -h"
   ]
  },
  {
   "cell_type": "markdown",
   "metadata": {},
   "source": [
    "<details><summary>Details: If the previous command fails with \"udapy: command not found\"</summary>\n",
    "This means that Udapi is not properly installed. When installing Udapi with <code>pip3 --user</code>, it is installed into <code>~/.local/lib/python3.6/site-packages/udapi/</code> (or similar depending on your Python version) and the wrapper into <code>~/.local/bin</code>. Thus you need to\n",
    "<pre>\n",
    "export PATH=\"$HOME/.local/bin/:$PATH\"\n",
    "</pre>\n",
    "</details>"
   ]
  },
  {
   "cell_type": "markdown",
   "metadata": {},
   "source": [
    "# Browse CoNLL-U files\n",
    "### Get sample UD data\n",
    "\n",
    "Download and extract [ud20sample.tgz](http://ufal.mff.cuni.cz/~popel/udapi/ud20sample.tgz). There are just 100 sentences for each of the 70 treebanks (`sample.conllu`),  plus 4 bigger files (`train.conllu` and `dev.conllu`) for German, English, French and Czech. For full UD ([2.0](https://lindat.mff.cuni.cz/repository/xmlui/handle/11234/1-1983) or [newer](https://lindat.mff.cuni.cz/repository/xmlui/handle/11234/1-3424)), go to [Lindat](https://lindat.cz)."
   ]
  },
  {
   "cell_type": "code",
   "execution_count": 4,
   "metadata": {
    "collapsed": true,
    "ExecuteTime": {
     "end_time": "2024-03-24T09:56:28.256578618Z",
     "start_time": "2024-03-24T09:56:27.079157987Z"
    }
   },
   "outputs": [
    {
     "name": "stdout",
     "output_type": "stream",
     "text": [
      "--2024-03-24 10:56:27--  http://ufal.mff.cuni.cz/~popel/udapi/ud20sample.tgz\r\n",
      "Resolving ufal.mff.cuni.cz (ufal.mff.cuni.cz)... 195.113.20.52\r\n",
      "Connecting to ufal.mff.cuni.cz (ufal.mff.cuni.cz)|195.113.20.52|:80... connected.\r\n",
      "HTTP request sent, awaiting response... 301 Moved Permanently\r\n",
      "Location: https://ufal.mff.cuni.cz/~popel/udapi/ud20sample.tgz [following]\r\n",
      "--2024-03-24 10:56:27--  https://ufal.mff.cuni.cz/~popel/udapi/ud20sample.tgz\r\n",
      "Connecting to ufal.mff.cuni.cz (ufal.mff.cuni.cz)|195.113.20.52|:443... connected.\r\n",
      "HTTP request sent, awaiting response... 200 OK\r\n",
      "Length: 4670982 (4.5M) [application/x-gzip]\r\n",
      "Saving to: ‘ud20sample.tgz’\r\n",
      "\r\n",
      "ud20sample.tgz      100%[===================>]   4.45M  7.34MB/s    in 0.6s    \r\n",
      "\r\n",
      "2024-03-24 10:56:27 (7.34 MB/s) - ‘ud20sample.tgz’ saved [4670982/4670982]\r\n",
      "\r\n",
      "/home/alexandra/work/projects/scene_desc_extractor/scene_desc_extractor/research/sample\n"
     ]
    },
    {
     "name": "stderr",
     "output_type": "stream",
     "text": [
      "/home/alexandra/.cache/pypoetry/virtualenvs/scene-desc-extractor-6Y_iv0gf-py3.11/lib/python3.11/site-packages/IPython/core/magics/osm.py:417: UserWarning: This is now an optional IPython functionality, setting dhist requires you to install the `pickleshare` library.\n",
      "  self.shell.db['dhist'] = compress_dhist(dhist)[-100:]\n"
     ]
    }
   ],
   "source": [
    "!wget http://ufal.mff.cuni.cz/~popel/udapi/ud20sample.tgz\n",
    "!tar -xf ud20sample.tgz\n",
    "%cd sample"
   ]
  },
  {
   "cell_type": "markdown",
   "metadata": {},
   "source": [
    "Let's choose one of the sample files and see the raw [CoNLL-U format](https://universaldependencies.org/format.html).\n",
    "<details><summary>Details: executing from Bash, IPython, Jupyter</summary>\n",
    "<ul>\n",
    "<li>If you see \"No such file or directory\" error, make sure you executed the previous cell. Note that the <code>cd</code> command is not prefixed by an exclamation mark because that would run in a sub-shell, which \"forgets\" the changed directory when finished. It is prefixed by a percent sign, which marks it as <a href=\"https://ipython.readthedocs.io/en/stable/interactive/magics.html#magic-cd\">IPython magic</a>.\n",
    "<li><code>cat</code> is another IPython magic command, this time an alias for the shell command of the same name (so you can prefix <code>cat</code> with an exclamation mark, if you prefer), which prints a given file. With <code>automagic</code> on, you can use it without the percent sign.\n",
    "<li>In this tutorial, we use <code>| head</code> to show just the first 10 lines of the output (preventing thus big ipynb file size). You can ignore the \"cat: write error: Broken pipe\" warning.\n",
    "<li>When using Jupyter, you can omit the <code>| head</code> because long outputs are automatically wrapped in a text box with a scrollbar.\n",
    "<li>When running this from IPython or Bash, you can use a pager: <code>less UD_Ancient_Greek/sample.conllu</code>\n",
    "</ul>\n",
    "</details>\n"
   ]
  },
  {
   "cell_type": "code",
   "execution_count": 23,
   "metadata": {
    "ExecuteTime": {
     "end_time": "2024-03-24T10:17:55.504356213Z",
     "start_time": "2024-03-24T10:17:55.396636271Z"
    }
   },
   "outputs": [
    {
     "name": "stdout",
     "output_type": "stream",
     "text": [
      "# newdoc id = weblog-juancole.com_juancole_20051126063000_ENG_20051126_063000\r\n",
      "# sent_id = weblog-juancole.com_juancole_20051126063000_ENG_20051126_063000-0001\r\n",
      "# text = Al-Zaman : American forces killed Shaikh Abdullah al-Ani, the preacher at the mosque in the town of Qaim, near the Syrian border.\r\n",
      "1\tAl\tAl\tPROPN\tNNP\tNumber=Sing\t0\troot\t_\tSpaceAfter=No\r\n",
      "2\t-\t-\tPUNCT\tHYPH\t_\t1\tpunct\t_\tSpaceAfter=No\r\n",
      "3\tZaman\tZaman\tPROPN\tNNP\tNumber=Sing\t1\tflat\t_\t_\r\n",
      "4\t:\t:\tPUNCT\t:\t_\t1\tpunct\t_\t_\r\n",
      "5\tAmerican\tamerican\tADJ\tJJ\tDegree=Pos\t6\tamod\t_\t_\r\n",
      "6\tforces\tforce\tNOUN\tNNS\tNumber=Plur\t7\tnsubj\t_\t_\r\n",
      "7\tkilled\tkill\tVERB\tVBD\tMood=Ind|Tense=Past|VerbForm=Fin\t1\tparataxis\t_\t_\r\n",
      "8\tShaikh\tShaikh\tPROPN\tNNP\tNumber=Sing\t7\tobj\t_\t_\r\n",
      "9\tAbdullah\tAbdullah\tPROPN\tNNP\tNumber=Sing\t8\tflat\t_\t_\r\n",
      "10\tal\tal\tPROPN\tNNP\tNumber=Sing\t8\tflat\t_\tSpaceAfter=No\r\n",
      "11\t-\t-\tPUNCT\tHYPH\t_\t8\tpunct\t_\tSpaceAfter=No\r\n",
      "12\tAni\tAni\tPROPN\tNNP\tNumber=Sing\t8\tflat\t_\tSpaceAfter=No\r\n",
      "13\t,\t,\tPUNCT\t,\t_\t8\tpunct\t_\t_\r\n",
      "14\tthe\tthe\tDET\tDT\tDefinite=Def|PronType=Art\t15\tdet\t_\t_\r\n",
      "15\tpreacher\tpreacher\tNOUN\tNN\tNumber=Sing\t8\tappos\t_\t_\r\n",
      "16\tat\tat\tADP\tIN\t_\t18\tcase\t_\t_\r\n",
      "17\tthe\tthe\tDET\tDT\tDefinite=Def|PronType=Art\t18\tdet\t_\t_\r\n",
      "18\tmosque\tmosque\tNOUN\tNN\tNumber=Sing\t7\tobl\t_\t_\r\n",
      "19\tin\tin\tADP\tIN\t_\t21\tcase\t_\t_\r\n",
      "20\tthe\tthe\tDET\tDT\tDefinite=Def|PronType=Art\t21\tdet\t_\t_\r\n",
      "21\ttown\ttown\tNOUN\tNN\tNumber=Sing\t18\tnmod\t_\t_\r\n",
      "22\tof\tof\tADP\tIN\t_\t23\tcase\t_\t_\r\n",
      "23\tQaim\tQaim\tPROPN\tNNP\tNumber=Sing\t21\tnmod\t_\tSpaceAfter=No\r\n",
      "24\t,\t,\tPUNCT\t,\t_\t21\tpunct\t_\t_\r\n",
      "25\tnear\tnear\tADP\tIN\t_\t28\tcase\t_\t_\r\n",
      "26\tthe\tthe\tDET\tDT\tDefinite=Def|PronType=Art\t28\tdet\t_\t_\r\n",
      "27\tSyrian\tsyrian\tADJ\tJJ\tDegree=Pos\t28\tamod\t_\t_\r\n",
      "28\tborder\tborder\tNOUN\tNN\tNumber=Sing\t21\tnmod\t_\tSpaceAfter=No\r\n",
      "29\t.\t.\tPUNCT\t.\t_\t1\tpunct\t_\t_\r\n",
      "\r\n",
      "# sent_id = weblog-juancole.com_juancole_20051126063000_ENG_20051126_063000-0002\r\n",
      "# text = [This killing of a respected cleric will be causing us trouble for years to come.]\r\n",
      "1\t[\t[\tPUNCT\t-LRB-\t_\t10\tpunct\t_\tSpaceAfter=No\r\n",
      "2\tThis\tthis\tDET\tDT\tNumber=Sing|PronType=Dem\t3\tdet\t_\t_\r\n",
      "3\tkilling\tkilling\tNOUN\tNN\tNumber=Sing\t10\tnsubj\t_\t_\r\n",
      "4\tof\tof\tADP\tIN\t_\t7\tcase\t_\t_\r\n",
      "5\ta\ta\tDET\tDT\tDefinite=Ind|PronType=Art\t7\tdet\t_\t_\r\n",
      "6\trespected\trespected\tADJ\tJJ\tDegree=Pos\t7\tamod\t_\t_\r\n",
      "7\tcleric\tcleric\tNOUN\tNN\tNumber=Sing\t3\tnmod\t_\t_\r\n",
      "8\twill\twill\tAUX\tMD\tVerbForm=Fin\t10\taux\t_\t_\r\n",
      "9\tbe\tbe\tAUX\tVB\tVerbForm=Inf\t10\taux\t_\t_\r\n",
      "10\tcausing\tcause\tVERB\tVBG\tVerbForm=Ger\t0\troot\t_\t_\r\n",
      "11\tus\twe\tPRON\tPRP\tCase=Acc|Number=Plur|Person=1|PronType=Prs\t10\tiobj\t_\t_\r\n",
      "12\ttrouble\ttrouble\tNOUN\tNN\tNumber=Sing\t10\tobj\t_\t_\r\n",
      "13\tfor\tfor\tADP\tIN\t_\t14\tcase\t_\t_\r\n",
      "14\tyears\tyear\tNOUN\tNNS\tNumber=Plur\t10\tobl\t_\t_\r\n",
      "15\tto\tto\tPART\tTO\t_\t16\tmark\t_\t_\r\n",
      "16\tcome\tcome\tVERB\tVB\tVerbForm=Inf\t14\tacl\t_\tSpaceAfter=No\r\n",
      "17\t.\t.\tPUNCT\t.\t_\t10\tpunct\t_\tSpaceAfter=No\r\n",
      "18\t]\t]\tPUNCT\t-RRB-\t_\t10\tpunct\t_\t_\r\n",
      "\r\n",
      "# sent_id = weblog-juancole.com_juancole_20051126063000_ENG_20051126_063000-0003\r\n",
      "# text = DPA: Iraqi authorities announced that they had busted up 3 terrorist cells operating in Baghdad.\r\n",
      "1\tDPA\tDPA\tPROPN\tNNP\tNumber=Sing\t0\troot\t_\tSpaceAfter=No\r\n",
      "2\t:\t:\tPUNCT\t:\t_\t1\tpunct\t_\t_\r\n",
      "3\tIraqi\tiraqi\tADJ\tJJ\tDegree=Pos\t4\tamod\t_\t_\r\n",
      "4\tauthorities\tauthority\tNOUN\tNNS\tNumber=Plur\t5\tnsubj\t_\t_\r\n",
      "5\tannounced\tannounce\tVERB\tVBD\tMood=Ind|Tense=Past|VerbForm=Fin\t1\tparataxis\t_\t_\r\n",
      "6\tthat\tthat\tSCONJ\tIN\t_\t9\tmark\t_\t_\r\n",
      "7\tthey\tthey\tPRON\tPRP\tCase=Nom|Number=Plur|Person=3|PronType=Prs\t9\tnsubj\t_\t_\r\n",
      "8\thad\thave\tAUX\tVBD\tMood=Ind|Tense=Past|VerbForm=Fin\t9\taux\t_\t_\r\n",
      "9\tbusted\tbust\tVERB\tVBN\tTense=Past|VerbForm=Part\t5\tccomp\t_\t_\r\n",
      "10\tup\tup\tADP\tRP\t_\t9\tcompound:prt\t_\t_\r\n",
      "11\t3\t3\tNUM\tCD\tNumType=Card\t13\tnummod\t_\t_\r\n",
      "12\tterrorist\tterrorist\tADJ\tJJ\tDegree=Pos\t13\tamod\t_\t_\r\n",
      "13\tcells\tcell\tNOUN\tNNS\tNumber=Plur\t9\tobj\t_\t_\r\n",
      "14\toperating\toperate\tVERB\tVBG\tVerbForm=Ger\t13\tacl\t_\t_\r\n",
      "15\tin\tin\tADP\tIN\t_\t16\tcase\t_\t_\r\n",
      "16\tBaghdad\tBaghdad\tPROPN\tNNP\tNumber=Sing\t14\tobl\t_\tSpaceAfter=No\r\n",
      "17\t.\t.\tPUNCT\t.\t_\t1\tpunct\t_\t_\r\n",
      "\r\n",
      "# sent_id = weblog-juancole.com_juancole_20051126063000_ENG_20051126_063000-0004\r\n",
      "# text = Two of them were being run by 2 officials of the Ministry of the Interior!\r\n",
      "1\tTwo\ttwo\tNUM\tCD\tNumType=Card\t6\tnsubj:pass\t_\t_\r\n",
      "2\tof\tof\tADP\tIN\t_\t3\tcase\t_\t_\r\n",
      "3\tthem\tthey\tPRON\tPRP\tCase=Acc|Number=Plur|Person=3|PronType=Prs\t1\tnmod\t_\t_\r\n",
      "4\twere\tbe\tAUX\tVBD\tMood=Ind|Tense=Past|VerbForm=Fin\t6\taux\t_\t_\r\n",
      "5\tbeing\tbe\tAUX\tVBG\tVerbForm=Ger\t6\taux:pass\t_\t_\r\n",
      "6\trun\trun\tVERB\tVBN\tTense=Past|VerbForm=Part|Voice=Pass\t0\troot\t_\t_\r\n",
      "7\tby\tby\tADP\tIN\t_\t9\tcase\t_\t_\r\n",
      "8\t2\t2\tNUM\tCD\tNumType=Card\t9\tnummod\t_\t_\r\n",
      "9\tofficials\tofficial\tNOUN\tNNS\tNumber=Plur\t6\tobl\t_\t_\r\n",
      "10\tof\tof\tADP\tIN\t_\t12\tcase\t_\t_\r\n",
      "11\tthe\tthe\tDET\tDT\tDefinite=Def|PronType=Art\t12\tdet\t_\t_\r\n",
      "12\tMinistry\tMinistry\tPROPN\tNNP\tNumber=Sing\t9\tnmod\t_\t_\r\n",
      "13\tof\tof\tADP\tIN\t_\t15\tcase\t_\t_\r\n",
      "14\tthe\tthe\tDET\tDT\tDefinite=Def|PronType=Art\t15\tdet\t_\t_\r\n",
      "15\tInterior\tInterior\tPROPN\tNNP\tNumber=Sing\t12\tnmod\t_\tSpaceAfter=No\r\n",
      "16\t!\t!\tPUNCT\t.\t_\t6\tpunct\t_\t_\r\n",
      "\r\n",
      "# sent_id = weblog-juancole.com_juancole_20051126063000_ENG_20051126_063000-0005\r\n",
      "# text = The MoI in Iraq is equivalent to the US FBI, so this would be like having J. Edgar Hoover unwittingly employ at a high level members of the Weathermen bombers back in the 1960s.\r\n",
      "1\tThe\tthe\tDET\tDT\tDefinite=Def|PronType=Art\t2\tdet\t_\t_\r\n",
      "2\tMoI\tMoI\tPROPN\tNNP\tNumber=Sing\t6\tnsubj\t_\t_\r\n",
      "3\tin\tin\tADP\tIN\t_\t4\tcase\t_\t_\r\n",
      "4\tIraq\tIraq\tPROPN\tNNP\tNumber=Sing\t2\tnmod\t_\t_\r\n",
      "5\tis\tbe\tAUX\tVBZ\tMood=Ind|Number=Sing|Person=3|Tense=Pres|VerbForm=Fin\t6\tcop\t_\t_\r\n",
      "cat: write error: Broken pipe\r\n"
     ]
    }
   ],
   "source": [
    "!cat UD_English/sample.conllu | head -n 100"
   ]
  },
  {
   "cell_type": "code",
   "outputs": [
    {
     "name": "stdout",
     "output_type": "stream",
     "text": [
      "# newdoc id = GUM_fiction_moon\r\n",
      "# global.Entity = GRP-etype-infstat-centering-minspan-link-identity\r\n",
      "# meta::author = H.P. Lovecraft\r\n",
      "# meta::dateCollected = 2019-09-11\r\n",
      "# meta::dateCreated = 2005-03-31\r\n",
      "# meta::dateModified = 2015-11-18\r\n",
      "# meta::genre = fiction\r\n",
      "# meta::salientEntities = 1, 2, 3, 11, 19, 51, 59, 64, 80, 85\r\n",
      "# meta::sourceURL = https://en.wikisource.org/wiki/What_the_Moon_Brings\r\n",
      "# meta::speakerCount = 1\r\n",
      "# meta::summary = A protagonist tells of a terrifying walk on a moonlit summer night into a stream flowing to an ocean filled with the dead, during which face-like lotos blossoms whispered to him and a dead city of spires appeared in the sea, where sea worms feasted on flesh under an evil moon and a shocking statue with hooves and a crown gazed at him.\r\n",
      "# meta::title = What the Moon Brings\r\n",
      "# sent_id = GUM_fiction_moon-1\r\n",
      "# s_prominence = 2\r\n",
      "# s_type = frag\r\n",
      "# transition = establishment\r\n",
      "# text = What the Moon Brings\r\n",
      "# newpar\r\n",
      "# newpar_block = head (1 s)\r\n",
      "1\tWhat\twhat\tPRON\tWP\tPronType=Int\t0\troot\t0:root\tDiscourse=organization-heading:1->12:6:grf-ly-|Entity=(1-abstract-new-cf2-1-sgl\r\n",
      "2\tthe\tthe\tDET\tDT\tDefinite=Def|PronType=Art\t3\tdet\t3:det\tEntity=(2-object-acc:com-cf1-2-coref\r\n",
      "3\tMoon\tmoon\tNOUN\tNN\tNumber=Sing\t4\tnsubj\t4:nsubj\tEntity=2)\r\n",
      "4\tBrings\tbring\tVERB\tVBZ\tMood=Ind|Number=Sing|Person=3|Tense=Pres|VerbForm=Fin\t1\tacl\t1:acl\tEntity=1)|MSeg=Bring-s\r\n",
      "\r\n",
      "# sent_id = GUM_fiction_moon-2\r\n",
      "# s_prominence = 2\r\n",
      "# s_type = decl\r\n",
      "# transition = establishment\r\n",
      "# text = I hate the moon - I am afraid of it - for when it shines on certain scenes familiar and loved it sometimes makes them unfamiliar and hideous.\r\n",
      "# newpar\r\n",
      "# newpar_block = p (1 s)\r\n",
      "1\tI\tI\tPRON\tPRP\tCase=Nom|Number=Sing|Person=1|PronType=Prs\t2\tnsubj\t2:nsubj\tDiscourse=context-background:2->12:5:ref-prs-5,75|Entity=(3-person-acc:com-cf1-1-ana)\r\n",
      "2\thate\thate\tVERB\tVBP\tMood=Ind|Number=Sing|Person=1|Tense=Pres|VerbForm=Fin\t0\troot\t0:root\t_\r\n",
      "3\tthe\tthe\tDET\tDT\tDefinite=Def|PronType=Art\t4\tdet\t4:det\tEntity=(2-object-giv:act-cf2*-2-coref\r\n",
      "4\tmoon\tmoon\tNOUN\tNN\tNumber=Sing\t2\tobj\t2:obj\tEntity=2)\r\n",
      "5\t-\t-\tPUNCT\t:\t_\t8\tpunct\t8:punct\t_\r\n",
      "6\tI\tI\tPRON\tPRP\tCase=Nom|Number=Sing|Person=1|PronType=Prs\t8\tnsubj\t8:nsubj\tDiscourse=explanation-justify:3->2:0:_|Entity=(3-person-giv:act-cf1-1-ana)\r\n",
      "7\tam\tbe\tAUX\tVBP\tMood=Ind|Number=Sing|Person=1|Tense=Pres|VerbForm=Fin\t8\tcop\t8:cop\t_\r\n",
      "8\tafraid\tafraid\tADJ\tJJ\tDegree=Pos\t2\tparataxis\t2:parataxis\t_\r\n",
      "9\tof\tof\tADP\tIN\t_\t10\tcase\t10:case\t_\r\n",
      "10\tit\tit\tPRON\tPRP\tCase=Acc|Gender=Neut|Number=Sing|Person=3|PronType=Prs\t8\tobl\t8:obl:of\tEntity=(2-object-giv:act-cf2*-1-ana)\r\n",
      "11\t-\t-\tPUNCT\t:\t_\t24\tpunct\t24:punct\t_\r\n",
      "12\tfor\tfor\tSCONJ\tIN\t_\t24\tmark\t24:mark\tDiscourse=explanation-justify:4->2:1:dm-for-16\r\n",
      "13\twhen\twhen\tADV\tWRB\tPronType=Int\t15\tadvmod\t15:advmod\tDiscourse=context-circumstance:5->6:0:dm-when-17\r\n",
      "14\tit\tit\tPRON\tPRP\tCase=Nom|Gender=Neut|Number=Sing|Person=3|PronType=Prs\t15\tnsubj\t15:nsubj\tEntity=(2-object-giv:act-cf2*-1-ana)\r\n",
      "15\tshines\tshine\tVERB\tVBZ\tMood=Ind|Number=Sing|Person=3|Tense=Pres|VerbForm=Fin\t24\tadvcl\t24:advcl:when\tMSeg=shine-s\r\n",
      "16\ton\ton\tADP\tIN\t_\t18\tcase\t18:case\t_\r\n",
      "17\tcertain\tcertain\tADJ\tJJ\tDegree=Pos\t18\tamod\t18:amod\tEntity=(4-abstract-new-cf3-2-coref\r\n",
      "18\tscenes\tscene\tNOUN\tNNS\tNumber=Plur\t15\tobl\t15:obl:on\tMSeg=scene-s\r\n",
      "19\tfamiliar\tfamiliar\tADJ\tJJ\tDegree=Pos\t18\tamod\t18:amod\t_\r\n",
      "20\tand\tand\tCCONJ\tCC\t_\t21\tcc\t21:cc\t_\r\n",
      "21\tloved\tlove\tVERB\tVBN\tTense=Past|VerbForm=Part|Voice=Pass\t19\tconj\t18:amod|19:conj:and\tEntity=4)|MSeg=lov-ed\r\n",
      "22\tit\tit\tPRON\tPRP\tCase=Nom|Gender=Neut|Number=Sing|Person=3|PronType=Prs\t24\tnsubj\t24:nsubj\tDiscourse=same-unit_m:6->4:0:_|Entity=(2-object-giv:act-cf2*-1-ana)\r\n",
      "23\tsometimes\tsometimes\tADV\tRB\t_\t24\tadvmod\t24:advmod\tMSeg=sometime-s\r\n",
      "24\tmakes\tmake\tVERB\tVBZ\tMood=Ind|Number=Sing|Person=3|Tense=Pres|VerbForm=Fin\t2\tadvcl\t2:advcl:for\tCxn=Resultative|MSeg=make-s\r\n",
      "25\tthem\tthey\tPRON\tPRP\tCase=Acc|Number=Plur|Person=3|PronType=Prs\t24\tobj\t24:obj|26:nsubj:xsubj|28:nsubj:xsubj\tEntity=(4-abstract-giv:act-cf3-1-ana)\r\n",
      "26\tunfamiliar\tunfamiliar\tADJ\tJJ\tDegree=Pos|Polarity=Neg\t24\txcomp\t24:xcomp\tMSeg=un-familiar\r\n",
      "27\tand\tand\tCCONJ\tCC\t_\t28\tcc\t28:cc\t_\r\n",
      "28\thideous\thideous\tADJ\tJJ\tDegree=Pos\t26\tconj\t24:xcomp|26:conj:and\tSpaceAfter=No\r\n",
      "29\t.\t.\tPUNCT\t.\t_\t2\tpunct\t2:punct\t_\r\n",
      "\r\n",
      "# sent_id = GUM_fiction_moon-3\r\n",
      "# s_prominence = 2\r\n",
      "# s_type = decl\r\n",
      "# transition = smooth-shift\r\n",
      "# text = It was in the spectral summer when the moon shone down on the old garden where I wandered; the spectral summer of narcotic flowers and humid seas of foliage that bring wild and many-coloured dreams.\r\n",
      "# newpar\r\n",
      "# newpar_block = p (3 s)\r\n",
      "1\tIt\tit\tPRON\tPRP\tCase=Nom|Gender=Neut|Number=Sing|Person=3|PronType=Prs\t6\tnsubj\t6:nsubj\tDiscourse=context-circumstance:7->12:2:lex-indwd-39+lex-indwd-55;joint-other:7->7:3:2:orp-and-73\r\n",
      "2\twas\tbe\tAUX\tVBD\tMood=Ind|Number=Sing|Person=3|Tense=Past|VerbForm=Fin\t6\tcop\t6:cop\t_\r\n",
      "3\tin\tin\tADP\tIN\t_\t6\tcase\t6:case\t_\r\n",
      "4\tthe\tthe\tDET\tDT\tDefinite=Def|PronType=Art\t6\tdet\t6:det\tEntity=(5-time-new-cf3-3-coref\r\n",
      "5\tspectral\tspectral\tADJ\tJJ\tDegree=Pos\t6\tamod\t6:amod\tMSeg=spectr-al\r\n",
      "6\tsummer\tsummer\tNOUN\tNN\tNumber=Sing\t0\troot\t0:root\tEntity=5)|XML=<date from:::\"--06\" to:::\"--09\"></date>\r\n",
      "7\twhen\twhen\tADV\tWRB\tPronType=Int\t10\tadvmod\t10:advmod\tDiscourse=context-circumstance:8->7:0:dm-when-40\r\n",
      "8\tthe\tthe\tDET\tDT\tDefinite=Def|PronType=Art\t9\tdet\t9:det\tEntity=(2-object-giv:act-cf2-2-coref\r\n",
      "9\tmoon\tmoon\tNOUN\tNN\tNumber=Sing\t10\tnsubj\t10:nsubj\tEntity=2)\r\n",
      "10\tshone\tshine\tVERB\tVBD\tMood=Ind|Number=Sing|Person=3|Tense=Past|VerbForm=Fin\t6\tadvcl\t6:advcl:when\t_\r\n",
      "11\tdown\tdown\tADV\tRB\tDegree=Pos\t10\tadvmod\t10:advmod\t_\r\n",
      "12\ton\ton\tADP\tIN\t_\t15\tcase\t15:case\t_\r\n",
      "13\tthe\tthe\tDET\tDT\tDefinite=Def|PronType=Art\t15\tdet\t15:det\tEntity=(6-place-new-cf5-3-coref\r\n",
      "14\told\told\tADJ\tJJ\tDegree=Pos\t15\tamod\t15:amod\t_\r\n",
      "15\tgarden\tgarden\tNOUN\tNN\tNumber=Sing\t10\tobl\t10:obl:on|18:obl\t_\r\n",
      "16\twhere\twhere\tADV\tWRB\tPronType=Rel\t18\tadvmod\t15:ref|18:advmod\tDiscourse=elaboration-attribute:9->8:0:syn-mdf-48+syn-relcl-49,51\r\n",
      "17\tI\tI\tPRON\tPRP\tCase=Nom|Number=Sing|Person=1|PronType=Prs\t18\tnsubj\t18:nsubj\tEntity=(3-person-giv:act-cf1*-1-ana)\r\n",
      "18\twandered\twander\tVERB\tVBD\tMood=Ind|Number=Sing|Person=1|Tense=Past|VerbForm=Fin\t15\tacl:relcl\t15:acl:relcl\tEntity=6)|MSeg=wander-ed|SpaceAfter=No\r\n",
      "19\t;\t;\tPUNCT\t:\t_\t22\tpunct\t22:punct\t_\r\n",
      "20\tthe\tthe\tDET\tDT\tDefinite=Def|PronType=Art\t22\tdet\t22:det\tDiscourse=elaboration-additional:10->7:1:sem-rpt-37-39,53-71|Entity=(5-time-giv:act-cf3-3-coref\r\n",
      "21\tspectral\tspectral\tADJ\tJJ\tDegree=Pos\t22\tamod\t22:amod\tMSeg=spectr-al\r\n",
      "22\tsummer\tsummer\tNOUN\tNN\tNumber=Sing\t6\tparataxis\t6:parataxis\tXML=<date from:::\"--06\" to:::\"--09\"></date>\r\n",
      "23\tof\tof\tADP\tIN\t_\t25\tcase\t25:case\t_\r\n",
      "24\tnarcotic\tnarcotic\tADJ\tJJ\tDegree=Pos\t25\tamod\t25:amod\tEntity=(7-plant-new-cf6-2,5-sgl\r\n",
      "25\tflowers\tflower\tNOUN\tNNS\tNumber=Plur\t22\tnmod\t22:nmod:of|32:nsubj\tMSeg=flow-er-s\r\n",
      "26\tand\tand\tCCONJ\tCC\t_\t28\tcc\t28:cc\t_\r\n",
      "27\thumid\thumid\tADJ\tJJ\tDegree=Pos\t28\tamod\t28:amod\tEntity=(8-substance-new-cf8-6-sgl\r\n",
      "28\tseas\tsea\tNOUN\tNNS\tNumber=Plur\t25\tconj\t22:nmod:of|25:conj:and\tMSeg=sea-s\r\n",
      "29\tof\tof\tADP\tIN\t_\t30\tcase\t30:case\t_\r\n",
      "30\tfoliage\tfoliage\tNOUN\tNN\tNumber=Sing\t28\tnmod\t28:nmod:of\tEntity=(9-plant-new-cf7-1-sgl)\r\n",
      "31\tthat\tthat\tPRON\tWDT\tPronType=Rel\t32\tnsubj\t25:ref\tDiscourse=elaboration-attribute:11->10:0:syn-mdf-58+syn-relcl-64-65\r\n",
      "32\tbring\tbring\tVERB\tVBP\tMood=Ind|Number=Plur|Person=3|Tense=Pres|VerbForm=Fin\t25\tacl:relcl\t25:acl:relcl\t_\r\n"
     ]
    }
   ],
   "source": [
    "!cat UD_English/GUM_fiction_moon.conllu | head -n 100"
   ],
   "metadata": {
    "collapsed": false,
    "ExecuteTime": {
     "end_time": "2024-03-24T10:24:00.967961142Z",
     "start_time": "2024-03-24T10:24:00.859347019Z"
    }
   },
   "execution_count": 27
  },
  {
   "cell_type": "markdown",
   "metadata": {},
   "source": [
    "### Browse conllu files with `udapy -T`\n",
    "While the CoNLL-U format was designed with readibility (by both machines and humans) on mind, it may be still a bit difficult to read and interpret by humans. Let's visualize the dependency tree structure using ASCII-art by piping the conllu file into `udapy -T`."
   ]
  },
  {
   "cell_type": "code",
   "outputs": [
    {
     "name": "stdout",
     "output_type": "stream",
     "text": [
      "2024-03-24 11:23:51,848 [   INFO] execute - No reader specified, using read.Conllu\r\n",
      "2024-03-24 11:23:51,848 [   INFO] execute -  ---- ROUND ----\r\n",
      "2024-03-24 11:23:51,848 [   INFO] execute - Executing block read.Conllu\r\n",
      "2024-03-24 11:23:51,850 [   INFO] execute - Executing block write.TextModeTrees\r\n",
      "docname = GUM_fiction_moon\r\n",
      "global.Entity = GRP-etype-infstat-centering-minspan-link-identity\r\n",
      "loaded_from = -\r\n",
      "# sent_id = GUM_fiction_moon-1\r\n",
      "# text = What the Moon Brings\r\n",
      "─┮\r\n",
      " ╰─┮ \u001B[33mWhat\u001B[0m \u001B[31mPRON\u001B[0m \u001B[34mroot\u001B[0m\r\n",
      "   │   ╭─╼ \u001B[33mthe\u001B[0m \u001B[31mDET\u001B[0m \u001B[34mdet\u001B[0m\r\n",
      "   │ ╭─┶ \u001B[33mMoon\u001B[0m \u001B[31mNOUN\u001B[0m \u001B[34mnsubj\u001B[0m\r\n",
      "   ╰─┶ \u001B[33mBrings\u001B[0m \u001B[31mVERB\u001B[0m \u001B[34macl\u001B[0m\r\n",
      "\r\n",
      "# sent_id = GUM_fiction_moon-2\r\n",
      "# text = I hate the moon - I am afraid of it - for when it shines on certain scenes familiar and loved it sometimes makes them unfamiliar and hideous.\r\n",
      "─┮\r\n",
      " │ ╭─╼ \u001B[33mI\u001B[0m \u001B[31mPRON\u001B[0m \u001B[34mnsubj\u001B[0m\r\n",
      " ╰─┾ \u001B[33mhate\u001B[0m \u001B[31mVERB\u001B[0m \u001B[34mroot\u001B[0m\r\n",
      "   │ ╭─╼ \u001B[33mthe\u001B[0m \u001B[31mDET\u001B[0m \u001B[34mdet\u001B[0m\r\n",
      "   ┡─┶ \u001B[33mmoon\u001B[0m \u001B[31mNOUN\u001B[0m \u001B[34mobj\u001B[0m\r\n",
      "   │ ╭─╼ \u001B[33m-\u001B[0m \u001B[31mPUNCT\u001B[0m \u001B[34mpunct\u001B[0m\r\n",
      "   │ ┢─╼ \u001B[33mI\u001B[0m \u001B[31mPRON\u001B[0m \u001B[34mnsubj\u001B[0m\r\n",
      "   │ ┢─╼ \u001B[33mam\u001B[0m \u001B[31mAUX\u001B[0m \u001B[34mcop\u001B[0m\r\n",
      "   ┡─┾ \u001B[33mafraid\u001B[0m \u001B[31mADJ\u001B[0m \u001B[34mparataxis\u001B[0m\r\n",
      "   │ │ ╭─╼ \u001B[33mof\u001B[0m \u001B[31mADP\u001B[0m \u001B[34mcase\u001B[0m\r\n",
      "   │ ╰─┶ \u001B[33mit\u001B[0m \u001B[31mPRON\u001B[0m \u001B[34mobl\u001B[0m\r\n",
      "   │ ╭─╼ \u001B[33m-\u001B[0m \u001B[31mPUNCT\u001B[0m \u001B[34mpunct\u001B[0m\r\n",
      "   │ ┢─╼ \u001B[33mfor\u001B[0m \u001B[31mSCONJ\u001B[0m \u001B[34mmark\u001B[0m\r\n",
      "   │ │ ╭─╼ \u001B[33mwhen\u001B[0m \u001B[31mADV\u001B[0m \u001B[34madvmod\u001B[0m\r\n",
      "   │ │ ┢─╼ \u001B[33mit\u001B[0m \u001B[31mPRON\u001B[0m \u001B[34mnsubj\u001B[0m\r\n",
      "   │ ┢─┾ \u001B[33mshines\u001B[0m \u001B[31mVERB\u001B[0m \u001B[34madvcl\u001B[0m\r\n",
      "   │ │ │ ╭─╼ \u001B[33mon\u001B[0m \u001B[31mADP\u001B[0m \u001B[34mcase\u001B[0m\r\n",
      "   │ │ │ ┢─╼ \u001B[33mcertain\u001B[0m \u001B[31mADJ\u001B[0m \u001B[34mamod\u001B[0m\r\n",
      "   │ │ ╰─┾ \u001B[33mscenes\u001B[0m \u001B[31mNOUN\u001B[0m \u001B[34mobl\u001B[0m\r\n",
      "   │ │   ╰─┮ \u001B[33mfamiliar\u001B[0m \u001B[31mADJ\u001B[0m \u001B[34mamod\u001B[0m\r\n",
      "   │ │     │ ╭─╼ \u001B[33mand\u001B[0m \u001B[31mCCONJ\u001B[0m \u001B[34mcc\u001B[0m\r\n",
      "   │ │     ╰─┶ \u001B[33mloved\u001B[0m \u001B[31mVERB\u001B[0m \u001B[34mconj\u001B[0m\r\n",
      "   │ ┢─╼ \u001B[33mit\u001B[0m \u001B[31mPRON\u001B[0m \u001B[34mnsubj\u001B[0m\r\n",
      "   │ ┢─╼ \u001B[33msometimes\u001B[0m \u001B[31mADV\u001B[0m \u001B[34madvmod\u001B[0m\r\n",
      "   ┡─┾ \u001B[33mmakes\u001B[0m \u001B[31mVERB\u001B[0m \u001B[34madvcl\u001B[0m\r\n",
      "   │ ┡─╼ \u001B[33mthem\u001B[0m \u001B[31mPRON\u001B[0m \u001B[34mobj\u001B[0m\r\n",
      "   │ ╰─┮ \u001B[33munfamiliar\u001B[0m \u001B[31mADJ\u001B[0m \u001B[34mxcomp\u001B[0m\r\n",
      "   │   │ ╭─╼ \u001B[33mand\u001B[0m \u001B[31mCCONJ\u001B[0m \u001B[34mcc\u001B[0m\r\n",
      "   │   ╰─┶ \u001B[33mhideous\u001B[0m \u001B[31mADJ\u001B[0m \u001B[34mconj\u001B[0m\r\n",
      "   ╰─╼ \u001B[33m.\u001B[0m \u001B[31mPUNCT\u001B[0m \u001B[34mpunct\u001B[0m\r\n",
      "\r\n",
      "# sent_id = GUM_fiction_moon-3\r\n",
      "# text = It was in the spectral summer when the moon shone down on the old garden where I wandered; the spectral summer of narcotic flowers and humid seas of foliage that bring wild and many-coloured dreams.\r\n",
      "─┮\r\n",
      " │ ╭─╼ \u001B[33mIt\u001B[0m \u001B[31mPRON\u001B[0m \u001B[34mnsubj\u001B[0m\r\n",
      " │ ┢─╼ \u001B[33mwas\u001B[0m \u001B[31mAUX\u001B[0m \u001B[34mcop\u001B[0m\r\n",
      " │ ┢─╼ \u001B[33min\u001B[0m \u001B[31mADP\u001B[0m \u001B[34mcase\u001B[0m\r\n",
      " │ ┢─╼ \u001B[33mthe\u001B[0m \u001B[31mDET\u001B[0m \u001B[34mdet\u001B[0m\r\n",
      " │ ┢─╼ \u001B[33mspectral\u001B[0m \u001B[31mADJ\u001B[0m \u001B[34mamod\u001B[0m\r\n",
      " ╰─┾ \u001B[33msummer\u001B[0m \u001B[31mNOUN\u001B[0m \u001B[34mroot\u001B[0m\r\n",
      "   │ ╭─╼ \u001B[33mwhen\u001B[0m \u001B[31mADV\u001B[0m \u001B[34madvmod\u001B[0m\r\n",
      "   │ │ ╭─╼ \u001B[33mthe\u001B[0m \u001B[31mDET\u001B[0m \u001B[34mdet\u001B[0m\r\n",
      "   │ ┢─┶ \u001B[33mmoon\u001B[0m \u001B[31mNOUN\u001B[0m \u001B[34mnsubj\u001B[0m\r\n",
      "   ┡─┾ \u001B[33mshone\u001B[0m \u001B[31mVERB\u001B[0m \u001B[34madvcl\u001B[0m\r\n",
      "   │ ┡─╼ \u001B[33mdown\u001B[0m \u001B[31mADV\u001B[0m \u001B[34madvmod\u001B[0m\r\n",
      "   │ │ ╭─╼ \u001B[33mon\u001B[0m \u001B[31mADP\u001B[0m \u001B[34mcase\u001B[0m\r\n",
      "   │ │ ┢─╼ \u001B[33mthe\u001B[0m \u001B[31mDET\u001B[0m \u001B[34mdet\u001B[0m\r\n",
      "   │ │ ┢─╼ \u001B[33mold\u001B[0m \u001B[31mADJ\u001B[0m \u001B[34mamod\u001B[0m\r\n",
      "   │ ╰─┾ \u001B[33mgarden\u001B[0m \u001B[31mNOUN\u001B[0m \u001B[34mobl\u001B[0m\r\n",
      "   │   │ ╭─╼ \u001B[33mwhere\u001B[0m \u001B[31mADV\u001B[0m \u001B[34madvmod\u001B[0m\r\n",
      "   │   │ ┢─╼ \u001B[33mI\u001B[0m \u001B[31mPRON\u001B[0m \u001B[34mnsubj\u001B[0m\r\n",
      "   │   ╰─┶ \u001B[33mwandered\u001B[0m \u001B[31mVERB\u001B[0m \u001B[34macl:relcl\u001B[0m\r\n",
      "   │ ╭─╼ \u001B[33m;\u001B[0m \u001B[31mPUNCT\u001B[0m \u001B[34mpunct\u001B[0m\r\n",
      "   │ ┢─╼ \u001B[33mthe\u001B[0m \u001B[31mDET\u001B[0m \u001B[34mdet\u001B[0m\r\n",
      "   │ ┢─╼ \u001B[33mspectral\u001B[0m \u001B[31mADJ\u001B[0m \u001B[34mamod\u001B[0m\r\n",
      "   ┡─┾ \u001B[33msummer\u001B[0m \u001B[31mNOUN\u001B[0m \u001B[34mparataxis\u001B[0m\r\n",
      "   │ │ ╭─╼ \u001B[33mof\u001B[0m \u001B[31mADP\u001B[0m \u001B[34mcase\u001B[0m\r\n",
      "   │ │ ┢─╼ \u001B[33mnarcotic\u001B[0m \u001B[31mADJ\u001B[0m \u001B[34mamod\u001B[0m\r\n",
      "   │ ╰─┾ \u001B[33mflowers\u001B[0m \u001B[31mNOUN\u001B[0m \u001B[34mnmod\u001B[0m\r\n",
      "   │   │ ╭─╼ \u001B[33mand\u001B[0m \u001B[31mCCONJ\u001B[0m \u001B[34mcc\u001B[0m\r\n",
      "   │   │ ┢─╼ \u001B[33mhumid\u001B[0m \u001B[31mADJ\u001B[0m \u001B[34mamod\u001B[0m\r\n",
      "   │   ┡─┾ \u001B[33mseas\u001B[0m \u001B[31mNOUN\u001B[0m \u001B[34mconj\u001B[0m\r\n",
      "   │   │ │ ╭─╼ \u001B[33mof\u001B[0m \u001B[31mADP\u001B[0m \u001B[34mcase\u001B[0m\r\n",
      "   │   │ ╰─┶ \u001B[33mfoliage\u001B[0m \u001B[31mNOUN\u001B[0m \u001B[34mnmod\u001B[0m\r\n",
      "   │   │ ╭─╼ \u001B[33mthat\u001B[0m \u001B[31mPRON\u001B[0m \u001B[34mnsubj\u001B[0m\r\n",
      "   │   ╰─┾ \u001B[33mbring\u001B[0m \u001B[31mVERB\u001B[0m \u001B[34macl:relcl\u001B[0m\r\n",
      "   │     │ ╭─┮ \u001B[33mwild\u001B[0m \u001B[31mADJ\u001B[0m \u001B[34mamod\u001B[0m\r\n",
      "   │     │ │ │ ╭─╼ \u001B[33mand\u001B[0m \u001B[31mCCONJ\u001B[0m \u001B[34mcc\u001B[0m\r\n",
      "   │     │ │ │ ┢─┮ \u001B[33mmany\u001B[0m \u001B[31mADJ\u001B[0m \u001B[34mamod\u001B[0m\r\n",
      "   │     │ │ │ │ ╰─╼ \u001B[33m-\u001B[0m \u001B[31mPUNCT\u001B[0m \u001B[34mpunct\u001B[0m\r\n",
      "   │     │ │ ╰─┶ \u001B[33mcoloured\u001B[0m \u001B[31mADJ\u001B[0m \u001B[34mconj\u001B[0m\r\n",
      "   │     ╰─┶ \u001B[33mdreams\u001B[0m \u001B[31mNOUN\u001B[0m \u001B[34mobj\u001B[0m\r\n",
      "   ╰─╼ \u001B[33m.\u001B[0m \u001B[31mPUNCT\u001B[0m \u001B[34mpunct\u001B[0m\r\n",
      "\r\n",
      "# sent_id = GUM_fiction_moon-4\r\n",
      "# text = And as I walked by the shallow crystal stream I saw unwonted ripples tipped with yellow light, as if those placid waters were drawn on in resistless currents to strange oceans that are not in the world.\r\n",
      "─┮\r\n",
      " │ ╭─╼ \u001B[33mAnd\u001B[0m \u001B[31mCCONJ\u001B[0m \u001B[34mcc\u001B[0m\r\n",
      " │ │ ╭─╼ \u001B[33mas\u001B[0m \u001B[31mSCONJ\u001B[0m \u001B[34mmark\u001B[0m\r\n",
      " │ │ ┢─╼ \u001B[33mI\u001B[0m \u001B[31mPRON\u001B[0m \u001B[34mnsubj\u001B[0m\r\n",
      " │ ┢─┾ \u001B[33mwalked\u001B[0m \u001B[31mVERB\u001B[0m \u001B[34madvcl\u001B[0m\r\n",
      " │ │ │ ╭─╼ \u001B[33mby\u001B[0m \u001B[31mADP\u001B[0m \u001B[34mcase\u001B[0m\r\n",
      " │ │ │ ┢─╼ \u001B[33mthe\u001B[0m \u001B[31mDET\u001B[0m \u001B[34mdet\u001B[0m\r\n",
      " │ │ │ ┢─╼ \u001B[33mshallow\u001B[0m \u001B[31mADJ\u001B[0m \u001B[34mamod\u001B[0m\r\n",
      " │ │ │ ┢─╼ \u001B[33mcrystal\u001B[0m \u001B[31mNOUN\u001B[0m \u001B[34mcompound\u001B[0m\r\n",
      " │ │ ╰─┶ \u001B[33mstream\u001B[0m \u001B[31mNOUN\u001B[0m \u001B[34mobl\u001B[0m\r\n",
      " │ ┢─╼ \u001B[33mI\u001B[0m \u001B[31mPRON\u001B[0m \u001B[34mnsubj\u001B[0m\r\n"
     ]
    }
   ],
   "source": [
    "!cat UD_English/GUM_fiction_moon.conllu | udapy -T  | head -n 100"
   ],
   "metadata": {
    "collapsed": false,
    "ExecuteTime": {
     "end_time": "2024-03-24T10:23:51.958032467Z",
     "start_time": "2024-03-24T10:23:51.816079505Z"
    }
   },
   "execution_count": 26
  },
  {
   "cell_type": "code",
   "outputs": [
    {
     "name": "stdout",
     "output_type": "stream",
     "text": [
      "2024-03-24 11:17:16,066 [   INFO] execute - No reader specified, using read.Conllu\r\n",
      "2024-03-24 11:17:16,066 [   INFO] execute -  ---- ROUND ----\r\n",
      "2024-03-24 11:17:16,066 [   INFO] execute - Executing block read.Conllu\r\n",
      "2024-03-24 11:17:16,070 [   INFO] execute - Executing block write.TextModeTrees\r\n",
      "docname = weblog-juancole.com_juancole_20051126063000_ENG_20051126_063000\r\n",
      "global.Entity = None\r\n",
      "loaded_from = -\r\n",
      "# sent_id = weblog-juancole.com_juancole_20051126063000_ENG_20051126_063000-0001\r\n",
      "# text = Al-Zaman : American forces killed Shaikh Abdullah al-Ani, the preacher at the mosque in the town of Qaim, near the Syrian border.\r\n",
      "─┮\r\n",
      " ╰─┮ \u001B[33mAl\u001B[0m \u001B[31mPROPN\u001B[0m \u001B[34mroot\u001B[0m\r\n",
      "   ┡─╼ \u001B[33m-\u001B[0m \u001B[31mPUNCT\u001B[0m \u001B[34mpunct\u001B[0m\r\n",
      "   ┡─╼ \u001B[33mZaman\u001B[0m \u001B[31mPROPN\u001B[0m \u001B[34mflat\u001B[0m\r\n",
      "   ┡─╼ \u001B[33m:\u001B[0m \u001B[31mPUNCT\u001B[0m \u001B[34mpunct\u001B[0m\r\n",
      "   │   ╭─╼ \u001B[33mAmerican\u001B[0m \u001B[31mADJ\u001B[0m \u001B[34mamod\u001B[0m\r\n",
      "   │ ╭─┶ \u001B[33mforces\u001B[0m \u001B[31mNOUN\u001B[0m \u001B[34mnsubj\u001B[0m\r\n",
      "   ┡─┾ \u001B[33mkilled\u001B[0m \u001B[31mVERB\u001B[0m \u001B[34mparataxis\u001B[0m\r\n",
      "   │ ┡─┮ \u001B[33mShaikh\u001B[0m \u001B[31mPROPN\u001B[0m \u001B[34mobj\u001B[0m\r\n",
      "   │ │ ┡─╼ \u001B[33mAbdullah\u001B[0m \u001B[31mPROPN\u001B[0m \u001B[34mflat\u001B[0m\r\n",
      "   │ │ ┡─╼ \u001B[33mal\u001B[0m \u001B[31mPROPN\u001B[0m \u001B[34mflat\u001B[0m\r\n",
      "   │ │ ┡─╼ \u001B[33m-\u001B[0m \u001B[31mPUNCT\u001B[0m \u001B[34mpunct\u001B[0m\r\n",
      "   │ │ ┡─╼ \u001B[33mAni\u001B[0m \u001B[31mPROPN\u001B[0m \u001B[34mflat\u001B[0m\r\n",
      "   │ │ ┡─╼ \u001B[33m,\u001B[0m \u001B[31mPUNCT\u001B[0m \u001B[34mpunct\u001B[0m\r\n",
      "   │ │ │ ╭─╼ \u001B[33mthe\u001B[0m \u001B[31mDET\u001B[0m \u001B[34mdet\u001B[0m\r\n",
      "   │ │ ╰─┶ \u001B[33mpreacher\u001B[0m \u001B[31mNOUN\u001B[0m \u001B[34mappos\u001B[0m\r\n",
      "   │ │ ╭─╼ \u001B[33mat\u001B[0m \u001B[31mADP\u001B[0m \u001B[34mcase\u001B[0m\r\n",
      "   │ │ ┢─╼ \u001B[33mthe\u001B[0m \u001B[31mDET\u001B[0m \u001B[34mdet\u001B[0m\r\n",
      "   │ ╰─┾ \u001B[33mmosque\u001B[0m \u001B[31mNOUN\u001B[0m \u001B[34mobl\u001B[0m\r\n",
      "   │   │ ╭─╼ \u001B[33min\u001B[0m \u001B[31mADP\u001B[0m \u001B[34mcase\u001B[0m\r\n",
      "   │   │ ┢─╼ \u001B[33mthe\u001B[0m \u001B[31mDET\u001B[0m \u001B[34mdet\u001B[0m\r\n",
      "   │   ╰─┾ \u001B[33mtown\u001B[0m \u001B[31mNOUN\u001B[0m \u001B[34mnmod\u001B[0m\r\n",
      "   │     │ ╭─╼ \u001B[33mof\u001B[0m \u001B[31mADP\u001B[0m \u001B[34mcase\u001B[0m\r\n",
      "   │     ┡─┶ \u001B[33mQaim\u001B[0m \u001B[31mPROPN\u001B[0m \u001B[34mnmod\u001B[0m\r\n",
      "   │     ┡─╼ \u001B[33m,\u001B[0m \u001B[31mPUNCT\u001B[0m \u001B[34mpunct\u001B[0m\r\n",
      "   │     │ ╭─╼ \u001B[33mnear\u001B[0m \u001B[31mADP\u001B[0m \u001B[34mcase\u001B[0m\r\n",
      "   │     │ ┢─╼ \u001B[33mthe\u001B[0m \u001B[31mDET\u001B[0m \u001B[34mdet\u001B[0m\r\n",
      "   │     │ ┢─╼ \u001B[33mSyrian\u001B[0m \u001B[31mADJ\u001B[0m \u001B[34mamod\u001B[0m\r\n",
      "   │     ╰─┶ \u001B[33mborder\u001B[0m \u001B[31mNOUN\u001B[0m \u001B[34mnmod\u001B[0m\r\n",
      "   ╰─╼ \u001B[33m.\u001B[0m \u001B[31mPUNCT\u001B[0m \u001B[34mpunct\u001B[0m\r\n",
      "\r\n",
      "# sent_id = weblog-juancole.com_juancole_20051126063000_ENG_20051126_063000-0002\r\n",
      "# text = [This killing of a respected cleric will be causing us trouble for years to come.]\r\n",
      "─┮\r\n",
      " │ ╭─╼ \u001B[33m[\u001B[0m \u001B[31mPUNCT\u001B[0m \u001B[34mpunct\u001B[0m\r\n",
      " │ │ ╭─╼ \u001B[33mThis\u001B[0m \u001B[31mDET\u001B[0m \u001B[34mdet\u001B[0m\r\n",
      " │ ┢─┾ \u001B[33mkilling\u001B[0m \u001B[31mNOUN\u001B[0m \u001B[34mnsubj\u001B[0m\r\n",
      " │ │ │ ╭─╼ \u001B[33mof\u001B[0m \u001B[31mADP\u001B[0m \u001B[34mcase\u001B[0m\r\n",
      " │ │ │ ┢─╼ \u001B[33ma\u001B[0m \u001B[31mDET\u001B[0m \u001B[34mdet\u001B[0m\r\n",
      " │ │ │ ┢─╼ \u001B[33mrespected\u001B[0m \u001B[31mADJ\u001B[0m \u001B[34mamod\u001B[0m\r\n",
      " │ │ ╰─┶ \u001B[33mcleric\u001B[0m \u001B[31mNOUN\u001B[0m \u001B[34mnmod\u001B[0m\r\n",
      " │ ┢─╼ \u001B[33mwill\u001B[0m \u001B[31mAUX\u001B[0m \u001B[34maux\u001B[0m\r\n",
      " │ ┢─╼ \u001B[33mbe\u001B[0m \u001B[31mAUX\u001B[0m \u001B[34maux\u001B[0m\r\n",
      " ╰─┾ \u001B[33mcausing\u001B[0m \u001B[31mVERB\u001B[0m \u001B[34mroot\u001B[0m\r\n",
      "   ┡─╼ \u001B[33mus\u001B[0m \u001B[31mPRON\u001B[0m \u001B[34miobj\u001B[0m\r\n",
      "   ┡─╼ \u001B[33mtrouble\u001B[0m \u001B[31mNOUN\u001B[0m \u001B[34mobj\u001B[0m\r\n",
      "   │ ╭─╼ \u001B[33mfor\u001B[0m \u001B[31mADP\u001B[0m \u001B[34mcase\u001B[0m\r\n",
      "   ┡─┾ \u001B[33myears\u001B[0m \u001B[31mNOUN\u001B[0m \u001B[34mobl\u001B[0m\r\n",
      "   │ │ ╭─╼ \u001B[33mto\u001B[0m \u001B[31mPART\u001B[0m \u001B[34mmark\u001B[0m\r\n",
      "   │ ╰─┶ \u001B[33mcome\u001B[0m \u001B[31mVERB\u001B[0m \u001B[34macl\u001B[0m\r\n",
      "   ┡─╼ \u001B[33m.\u001B[0m \u001B[31mPUNCT\u001B[0m \u001B[34mpunct\u001B[0m\r\n",
      "   ╰─╼ \u001B[33m]\u001B[0m \u001B[31mPUNCT\u001B[0m \u001B[34mpunct\u001B[0m\r\n",
      "\r\n",
      "# sent_id = weblog-juancole.com_juancole_20051126063000_ENG_20051126_063000-0003\r\n",
      "# text = DPA: Iraqi authorities announced that they had busted up 3 terrorist cells operating in Baghdad.\r\n",
      "─┮\r\n",
      " ╰─┮ \u001B[33mDPA\u001B[0m \u001B[31mPROPN\u001B[0m \u001B[34mroot\u001B[0m\r\n",
      "   ┡─╼ \u001B[33m:\u001B[0m \u001B[31mPUNCT\u001B[0m \u001B[34mpunct\u001B[0m\r\n",
      "   │   ╭─╼ \u001B[33mIraqi\u001B[0m \u001B[31mADJ\u001B[0m \u001B[34mamod\u001B[0m\r\n",
      "   │ ╭─┶ \u001B[33mauthorities\u001B[0m \u001B[31mNOUN\u001B[0m \u001B[34mnsubj\u001B[0m\r\n",
      "   ┡─┾ \u001B[33mannounced\u001B[0m \u001B[31mVERB\u001B[0m \u001B[34mparataxis\u001B[0m\r\n",
      "   │ │ ╭─╼ \u001B[33mthat\u001B[0m \u001B[31mSCONJ\u001B[0m \u001B[34mmark\u001B[0m\r\n",
      "   │ │ ┢─╼ \u001B[33mthey\u001B[0m \u001B[31mPRON\u001B[0m \u001B[34mnsubj\u001B[0m\r\n",
      "   │ │ ┢─╼ \u001B[33mhad\u001B[0m \u001B[31mAUX\u001B[0m \u001B[34maux\u001B[0m\r\n",
      "   │ ╰─┾ \u001B[33mbusted\u001B[0m \u001B[31mVERB\u001B[0m \u001B[34mccomp\u001B[0m\r\n",
      "   │   ┡─╼ \u001B[33mup\u001B[0m \u001B[31mADP\u001B[0m \u001B[34mcompound:prt\u001B[0m\r\n",
      "   │   │ ╭─╼ \u001B[33m3\u001B[0m \u001B[31mNUM\u001B[0m \u001B[34mnummod\u001B[0m\r\n",
      "   │   │ ┢─╼ \u001B[33mterrorist\u001B[0m \u001B[31mADJ\u001B[0m \u001B[34mamod\u001B[0m\r\n",
      "   │   ╰─┾ \u001B[33mcells\u001B[0m \u001B[31mNOUN\u001B[0m \u001B[34mobj\u001B[0m\r\n",
      "   │     ╰─┮ \u001B[33moperating\u001B[0m \u001B[31mVERB\u001B[0m \u001B[34macl\u001B[0m\r\n",
      "   │       │ ╭─╼ \u001B[33min\u001B[0m \u001B[31mADP\u001B[0m \u001B[34mcase\u001B[0m\r\n",
      "   │       ╰─┶ \u001B[33mBaghdad\u001B[0m \u001B[31mPROPN\u001B[0m \u001B[34mobl\u001B[0m\r\n",
      "   ╰─╼ \u001B[33m.\u001B[0m \u001B[31mPUNCT\u001B[0m \u001B[34mpunct\u001B[0m\r\n",
      "\r\n",
      "# sent_id = weblog-juancole.com_juancole_20051126063000_ENG_20051126_063000-0004\r\n",
      "# text = Two of them were being run by 2 officials of the Ministry of the Interior!\r\n",
      "─┮\r\n",
      " │ ╭─┮ \u001B[33mTwo\u001B[0m \u001B[31mNUM\u001B[0m \u001B[34mnsubj:pass\u001B[0m\r\n",
      " │ │ │ ╭─╼ \u001B[33mof\u001B[0m \u001B[31mADP\u001B[0m \u001B[34mcase\u001B[0m\r\n",
      " │ │ ╰─┶ \u001B[33mthem\u001B[0m \u001B[31mPRON\u001B[0m \u001B[34mnmod\u001B[0m\r\n",
      " │ ┢─╼ \u001B[33mwere\u001B[0m \u001B[31mAUX\u001B[0m \u001B[34maux\u001B[0m\r\n",
      " │ ┢─╼ \u001B[33mbeing\u001B[0m \u001B[31mAUX\u001B[0m \u001B[34maux:pass\u001B[0m\r\n",
      " ╰─┾ \u001B[33mrun\u001B[0m \u001B[31mVERB\u001B[0m \u001B[34mroot\u001B[0m\r\n",
      "   │ ╭─╼ \u001B[33mby\u001B[0m \u001B[31mADP\u001B[0m \u001B[34mcase\u001B[0m\r\n",
      "   │ ┢─╼ \u001B[33m2\u001B[0m \u001B[31mNUM\u001B[0m \u001B[34mnummod\u001B[0m\r\n",
      "   ┡─┾ \u001B[33mofficials\u001B[0m \u001B[31mNOUN\u001B[0m \u001B[34mobl\u001B[0m\r\n",
      "   │ │ ╭─╼ \u001B[33mof\u001B[0m \u001B[31mADP\u001B[0m \u001B[34mcase\u001B[0m\r\n",
      "   │ │ ┢─╼ \u001B[33mthe\u001B[0m \u001B[31mDET\u001B[0m \u001B[34mdet\u001B[0m\r\n",
      "   │ ╰─┾ \u001B[33mMinistry\u001B[0m \u001B[31mPROPN\u001B[0m \u001B[34mnmod\u001B[0m\r\n",
      "   │   │ ╭─╼ \u001B[33mof\u001B[0m \u001B[31mADP\u001B[0m \u001B[34mcase\u001B[0m\r\n",
      "   │   │ ┢─╼ \u001B[33mthe\u001B[0m \u001B[31mDET\u001B[0m \u001B[34mdet\u001B[0m\r\n",
      "   │   ╰─┶ \u001B[33mInterior\u001B[0m \u001B[31mPROPN\u001B[0m \u001B[34mnmod\u001B[0m\r\n",
      "   ╰─╼ \u001B[33m!\u001B[0m \u001B[31mPUNCT\u001B[0m \u001B[34mpunct\u001B[0m\r\n",
      "\r\n",
      "# sent_id = weblog-juancole.com_juancole_20051126063000_ENG_20051126_063000-0005\r\n"
     ]
    }
   ],
   "source": [
    "!cat UD_English/sample.conllu | udapy -T | head -n 100"
   ],
   "metadata": {
    "ExecuteTime": {
     "end_time": "2024-03-24T10:17:16.177423053Z",
     "start_time": "2024-03-24T10:17:16.034271424Z"
    }
   },
   "execution_count": 22
  },
  {
   "cell_type": "markdown",
   "metadata": {},
   "source": [
    "<details><summary>Details:</summary>\n",
    "<ul>\n",
    "<li>You may be used to see dependency trees where the root node is on the top and words are ordered horizontally (left to right). Here, the root is on left and words are ordered vertically (top to bottom).\n",
    "<li>The colors are implemented using the <a href=\"https://pypi.org/project/colorama/\">colorama package</a> and ANSI escape codes. When running this from IPython or Bash and using <code>less</code>, you need to instruct it to display the colors with <code>-R</code>:\n",
    "<code>\n",
    "cat UD_Ancient_Greek/sample.conllu | udapy -T | less -R\n",
    "</code>\n",
    "<li>You can also use <code>udapy -T -N</code> to disable the colors.\n",
    "<li><code>udapy -q</code> suppresses all Udapi messages (warnings, info, debug) printed on the standard error output, so only fatal errors are printed. By default only debug messages are suppresses, but these can be printed with <code>udapy -v</code>.\n",
    "<li>But you already know this because you have read <code>udapy -h</code>, am I right?\n",
    "</ul>\n",
    "</details>\n",
    "\n",
    "`udapy -T` is a shortcut for `udapy write.TextModeTrees color=1`, where `write.TextModeTrees` is a so-called *block* (a basic Udapi processing unit) and `color=1` is its parameter. See [the documentation](https://udapi.readthedocs.io/en/latest/udapi.block.write.html#module-udapi.block.write.textmodetrees) (or even [the source code](https://github.com/udapi/udapi-python/blob/master/udapi/block/write/textmodetrees.py) of `write.TextModeTrees` to learn about further parameters. Now, let's print also the LEMMA and MISC columns and display the columns vertically aligned using parameters `layout=align attributes=form,lemma,upos,deprel,misc`."
   ]
  },
  {
   "cell_type": "code",
   "execution_count": 19,
   "metadata": {
    "ExecuteTime": {
     "end_time": "2024-03-24T10:08:30.108561666Z",
     "start_time": "2024-03-24T10:08:29.965249979Z"
    }
   },
   "outputs": [
    {
     "name": "stdout",
     "output_type": "stream",
     "text": [
      "docname = weblog-juancole.com_juancole_20051126063000_ENG_20051126_063000\r\n",
      "global.Entity = None\r\n",
      "loaded_from = -\r\n",
      "# sent_id = weblog-juancole.com_juancole_20051126063000_ENG_20051126_063000-0001\r\n",
      "# text = Al-Zaman : American forces killed Shaikh Abdullah al-Ani, the preacher at the mosque in the town of Qaim, near the Syrian border.\r\n",
      "─┮                                              \r\n",
      " ╰─┮           \u001B[33mAl\u001B[0m       \u001B[36mAl\u001B[0m       \u001B[31mPROPN\u001B[0m \u001B[34mroot\u001B[0m      SpaceAfter=No\u001B[0m\r\n",
      "   ┡─╼         \u001B[33m-\u001B[0m        \u001B[36m-\u001B[0m        \u001B[31mPUNCT\u001B[0m \u001B[34mpunct\u001B[0m     SpaceAfter=No\u001B[0m\r\n",
      "   ┡─╼         \u001B[33mZaman\u001B[0m    \u001B[36mZaman\u001B[0m    \u001B[31mPROPN\u001B[0m \u001B[34mflat\u001B[0m      _\u001B[0m\r\n",
      "   ┡─╼         \u001B[33m:\u001B[0m        \u001B[36m:\u001B[0m        \u001B[31mPUNCT\u001B[0m \u001B[34mpunct\u001B[0m     _\u001B[0m\r\n",
      "   │   ╭─╼     \u001B[33mAmerican\u001B[0m \u001B[36mamerican\u001B[0m \u001B[31mADJ\u001B[0m   \u001B[34mamod\u001B[0m      _\u001B[0m\r\n",
      "   │ ╭─┶       \u001B[33mforces\u001B[0m   \u001B[36mforce\u001B[0m    \u001B[31mNOUN\u001B[0m  \u001B[34mnsubj\u001B[0m     _\u001B[0m\r\n",
      "   ┡─┾         \u001B[33mkilled\u001B[0m   \u001B[36mkill\u001B[0m     \u001B[31mVERB\u001B[0m  \u001B[34mparataxis\u001B[0m _\u001B[0m\r\n",
      "   │ ┡─┮       \u001B[33mShaikh\u001B[0m   \u001B[36mShaikh\u001B[0m   \u001B[31mPROPN\u001B[0m \u001B[34mobj\u001B[0m       _\u001B[0m\r\n",
      "   │ │ ┡─╼     \u001B[33mAbdullah\u001B[0m \u001B[36mAbdullah\u001B[0m \u001B[31mPROPN\u001B[0m \u001B[34mflat\u001B[0m      _\u001B[0m\r\n",
      "   │ │ ┡─╼     \u001B[33mal\u001B[0m       \u001B[36mal\u001B[0m       \u001B[31mPROPN\u001B[0m \u001B[34mflat\u001B[0m      SpaceAfter=No\u001B[0m\r\n",
      "   │ │ ┡─╼     \u001B[33m-\u001B[0m        \u001B[36m-\u001B[0m        \u001B[31mPUNCT\u001B[0m \u001B[34mpunct\u001B[0m     SpaceAfter=No\u001B[0m\r\n",
      "   │ │ ┡─╼     \u001B[33mAni\u001B[0m      \u001B[36mAni\u001B[0m      \u001B[31mPROPN\u001B[0m \u001B[34mflat\u001B[0m      SpaceAfter=No\u001B[0m\r\n",
      "   │ │ ┡─╼     \u001B[33m,\u001B[0m        \u001B[36m,\u001B[0m        \u001B[31mPUNCT\u001B[0m \u001B[34mpunct\u001B[0m     _\u001B[0m\r\n",
      "   │ │ │ ╭─╼   \u001B[33mthe\u001B[0m      \u001B[36mthe\u001B[0m      \u001B[31mDET\u001B[0m   \u001B[34mdet\u001B[0m       _\u001B[0m\r\n"
     ]
    }
   ],
   "source": [
    "!cat UD_English/sample.conllu | udapy -q write.TextModeTrees color=1 layout=align attributes=form,lemma,upos,deprel,misc | head -n 20"
   ]
  },
  {
   "cell_type": "code",
   "outputs": [
    {
     "name": "stdout",
     "output_type": "stream",
     "text": [
      "Traceback (most recent call last):\r\n",
      "  File \"/home/alexandra/.cache/pypoetry/virtualenvs/scene-desc-extractor-6Y_iv0gf-py3.11/bin/udapy\", line 114, in <module>\r\n",
      "    runner.execute()\r\n",
      "  File \"/home/alexandra/.cache/pypoetry/virtualenvs/scene-desc-extractor-6Y_iv0gf-py3.11/lib/python3.11/site-packages/udapi/core/run.py\", line 166, in execute\r\n",
      "    blocks = _import_blocks(block_names, block_args)\r\n",
      "             ^^^^^^^^^^^^^^^^^^^^^^^^^^^^^^^^^^^^^^^\r\n",
      "  File \"/home/alexandra/.cache/pypoetry/virtualenvs/scene-desc-extractor-6Y_iv0gf-py3.11/lib/python3.11/site-packages/udapi/core/run.py\", line 118, in _import_blocks\r\n",
      "    exec(command)  # pylint: disable=exec-used\r\n",
      "    ^^^^^^^^^^^^^\r\n",
      "  File \"<string>\", line 1, in <module>\r\n",
      "  File \"/home/alexandra/.cache/pypoetry/virtualenvs/scene-desc-extractor-6Y_iv0gf-py3.11/lib/python3.11/site-packages/udapi/block/udpipe/en.py\", line 2, in <module>\r\n",
      "    from udapi.block.udpipe.base import Base\r\n",
      "  File \"/home/alexandra/.cache/pypoetry/virtualenvs/scene-desc-extractor-6Y_iv0gf-py3.11/lib/python3.11/site-packages/udapi/block/udpipe/base.py\", line 3, in <module>\r\n",
      "    from udapi.tool.udpipe import UDPipe\r\n",
      "  File \"/home/alexandra/.cache/pypoetry/virtualenvs/scene-desc-extractor-6Y_iv0gf-py3.11/lib/python3.11/site-packages/udapi/tool/udpipe.py\", line 5, in <module>\r\n",
      "    from ufal.udpipe import Model, Pipeline, ProcessingError, Sentence  # pylint: disable=no-name-in-module\r\n",
      "    ^^^^^^^^^^^^^^^^^^^^^^^^^^^^^^^^^^^^^^^^^^^^^^^^^^^^^^^^^^^^^^^^^^\r\n",
      "ModuleNotFoundError: No module named 'ufal'\r\n"
     ]
    }
   ],
   "source": [
    "!echo \"John loves Mary.\" | udapy -s read.Sentences udpipe.En "
   ],
   "metadata": {
    "collapsed": false,
    "ExecuteTime": {
     "end_time": "2024-03-24T10:43:26.403654928Z",
     "start_time": "2024-03-24T10:43:26.260351493Z"
    }
   },
   "execution_count": 33
  },
  {
   "cell_type": "code",
   "outputs": [
    {
     "name": "stdout",
     "output_type": "stream",
     "text": [
      "2024-03-24 12:00:56,066 [   INFO] execute - No reader specified, using read.Conllu\r\n",
      "2024-03-24 12:00:56,066 [   INFO] execute -  ---- ROUND ----\r\n",
      "2024-03-24 12:00:56,066 [   INFO] execute - Executing block read.Conllu\r\n",
      "2024-03-24 12:00:56,070 [   INFO] execute - Executing block write.TextModeTrees\r\n",
      "docname = weblog-juancole.com_juancole_20051126063000_ENG_20051126_063000\r\n",
      "global.Entity = None\r\n",
      "loaded_from = -\r\n",
      "# sent_id = weblog-juancole.com_juancole_20051126063000_ENG_20051126_063000-0001\r\n",
      "# text = Al-Zaman : American forces killed Shaikh Abdullah al-Ani, the preacher at the mosque in the town of Qaim, near the Syrian border.\r\n",
      "─┮\r\n",
      " ╰─┮ \u001B[33mAl\u001B[0m \u001B[31mPROPN\u001B[0m \u001B[34mroot\u001B[0m SpaceAfter=No\u001B[0m\r\n",
      "   ┡─╼ \u001B[33m-\u001B[0m \u001B[31mPUNCT\u001B[0m \u001B[34mpunct\u001B[0m SpaceAfter=No\u001B[0m\r\n",
      "   ┡─╼ \u001B[33mZaman\u001B[0m \u001B[31mPROPN\u001B[0m \u001B[34mflat\u001B[0m _\u001B[0m\r\n",
      "   ┡─╼ \u001B[33m:\u001B[0m \u001B[31mPUNCT\u001B[0m \u001B[34mpunct\u001B[0m _\u001B[0m\r\n",
      "   │   ╭─╼ \u001B[33mAmerican\u001B[0m \u001B[31mADJ\u001B[0m \u001B[34mamod\u001B[0m _\u001B[0m\r\n",
      "   │ ╭─┶ \u001B[33mforces\u001B[0m \u001B[31mNOUN\u001B[0m \u001B[34mnsubj\u001B[0m _\u001B[0m\r\n",
      "   ┡─┾ \u001B[33mkilled\u001B[0m \u001B[31mVERB\u001B[0m \u001B[34mparataxis\u001B[0m _\u001B[0m\r\n",
      "   │ ┡─┮ \u001B[33mShaikh\u001B[0m \u001B[31mPROPN\u001B[0m \u001B[34mobj\u001B[0m _\u001B[0m\r\n",
      "   │ │ ┡─╼ \u001B[33mAbdullah\u001B[0m \u001B[31mPROPN\u001B[0m \u001B[34mflat\u001B[0m _\u001B[0m\r\n",
      "   │ │ ┡─╼ \u001B[33mal\u001B[0m \u001B[31mPROPN\u001B[0m \u001B[34mflat\u001B[0m SpaceAfter=No\u001B[0m\r\n",
      "   │ │ ┡─╼ \u001B[33m-\u001B[0m \u001B[31mPUNCT\u001B[0m \u001B[34mpunct\u001B[0m SpaceAfter=No\u001B[0m\r\n",
      "   │ │ ┡─╼ \u001B[33mAni\u001B[0m \u001B[31mPROPN\u001B[0m \u001B[34mflat\u001B[0m SpaceAfter=No\u001B[0m\r\n",
      "   │ │ ┡─╼ \u001B[33m,\u001B[0m \u001B[31mPUNCT\u001B[0m \u001B[34mpunct\u001B[0m _\u001B[0m\r\n",
      "   │ │ │ ╭─╼ \u001B[33mthe\u001B[0m \u001B[31mDET\u001B[0m \u001B[34mdet\u001B[0m _\u001B[0m\r\n"
     ]
    }
   ],
   "source": [
    "!cat UD_English/sample.conllu | udapy write.TextModeTrees color=1 attributes=form,upos,deprel,misc | head -n 20\n"
   ],
   "metadata": {
    "collapsed": false,
    "ExecuteTime": {
     "end_time": "2024-03-24T11:00:56.177991485Z",
     "start_time": "2024-03-24T11:00:56.032605635Z"
    }
   },
   "execution_count": 58
  },
  {
   "cell_type": "markdown",
   "metadata": {},
   "source": [
    "### Browse conllu files from IPython/Jupyter\n",
    "So far, we were using Udapi only via its command-line interface `udapy`, which is handy, but not very Pythonic. So let's now use Udapi as a library and load the English conllu sample file into a document `doc` and visualize the sixth tree (i.e. `doc[5]` in zero-based indexing)."
   ]
  },
  {
   "cell_type": "code",
   "execution_count": 20,
   "metadata": {
    "ExecuteTime": {
     "end_time": "2024-03-24T10:09:16.073221808Z",
     "start_time": "2024-03-24T10:09:16.013795822Z"
    }
   },
   "outputs": [
    {
     "name": "stdout",
     "output_type": "stream",
     "text": [
      "# sent_id = weblog-juancole.com_juancole_20051126063000_ENG_20051126_063000-0006\n",
      "# text = The third was being run by the head of an investment firm.\n",
      "─┮\n",
      " │   ╭─╼ \u001B[33mThe\u001B[0m \u001B[31mDET\u001B[0m \u001B[34mdet\u001B[0m\n",
      " │ ╭─┶ \u001B[33mthird\u001B[0m \u001B[31mADJ\u001B[0m \u001B[34mnsubj:pass\u001B[0m\n",
      " │ ┢─╼ \u001B[33mwas\u001B[0m \u001B[31mAUX\u001B[0m \u001B[34maux\u001B[0m\n",
      " │ ┢─╼ \u001B[33mbeing\u001B[0m \u001B[31mAUX\u001B[0m \u001B[34maux:pass\u001B[0m\n",
      " ╰─┾ \u001B[33mrun\u001B[0m \u001B[31mVERB\u001B[0m \u001B[34mroot\u001B[0m\n",
      "   │ ╭─╼ \u001B[33mby\u001B[0m \u001B[31mADP\u001B[0m \u001B[34mcase\u001B[0m\n",
      "   │ ┢─╼ \u001B[33mthe\u001B[0m \u001B[31mDET\u001B[0m \u001B[34mdet\u001B[0m\n",
      "   ┡─┾ \u001B[33mhead\u001B[0m \u001B[31mNOUN\u001B[0m \u001B[34mobl\u001B[0m\n",
      "   │ │ ╭─╼ \u001B[33mof\u001B[0m \u001B[31mADP\u001B[0m \u001B[34mcase\u001B[0m\n",
      "   │ │ ┢─╼ \u001B[33man\u001B[0m \u001B[31mDET\u001B[0m \u001B[34mdet\u001B[0m\n",
      "   │ │ ┢─╼ \u001B[33minvestment\u001B[0m \u001B[31mNOUN\u001B[0m \u001B[34mcompound\u001B[0m\n",
      "   │ ╰─┶ \u001B[33mfirm\u001B[0m \u001B[31mNOUN\u001B[0m \u001B[34mnmod\u001B[0m\n",
      "   ╰─╼ \u001B[33m.\u001B[0m \u001B[31mPUNCT\u001B[0m \u001B[34mpunct\u001B[0m\n"
     ]
    }
   ],
   "source": [
    "import udapi\n",
    "doc = udapi.Document(\"UD_English/sample.conllu\")\n",
    "doc[5].draw()"
   ]
  },
  {
   "cell_type": "markdown",
   "metadata": {},
   "source": [
    "<details><summary>Details:</summary>\n",
    "<ul>\n",
    "<li><code>doc = udapi.Document(filename)</code> is a shortcut for\n",
    "<pre>\n",
    "import udapi.core.document\n",
    "doc = udapi.core.document.Document(filename)\n",
    "</pre>\n",
    "<li>We can print the whole document using <code>doc.draw()</code>.\n",
    "<li><code>doc.draw(**kwargs)</code> is a shortcut for creating a <code>write.TextModeTrees</code> block and applying it on the document:\n",
    "<pre>\n",
    "import udapi.block.write.textmodetrees\n",
    "block = udapi.block.write.textmodetrees.TextModeTrees(**kwargs)\n",
    "block.run(doc)\n",
    "</pre>\n",
    "</ul>\n",
    "</details>\n",
    "\n",
    "The `draw()` method takes the same parameters as the `write.TextModeTrees` block, so we can for example display only the node ID (aka `ord`, i.e. word-order index), form and [universal (morpho-syntactic) features](https://universaldependencies.org/u/feat/index.html).\n"
   ]
  },
  {
   "cell_type": "code",
   "execution_count": 21,
   "metadata": {
    "ExecuteTime": {
     "end_time": "2024-03-24T10:10:14.641662234Z",
     "start_time": "2024-03-24T10:10:14.588290650Z"
    }
   },
   "outputs": [
    {
     "name": "stdout",
     "output_type": "stream",
     "text": [
      "# sent_id = weblog-juancole.com_juancole_20051126063000_ENG_20051126_063000-0006\n",
      "# text = The third was being run by the head of an investment firm.\n",
      "─┮                      \n",
      " │   ╭─╼   \u001B[32m1\u001B[0m  \u001B[33mThe\u001B[0m        Definite=Def|PronType=Art\u001B[0m\n",
      " │ ╭─┶     \u001B[32m2\u001B[0m  \u001B[33mthird\u001B[0m      Degree=Pos|NumType=Ord\u001B[0m\n",
      " │ ┢─╼     \u001B[32m3\u001B[0m  \u001B[33mwas\u001B[0m        Mood=Ind|Number=Sing|Person=3|Tense=Past|VerbForm=Fin\u001B[0m\n",
      " │ ┢─╼     \u001B[32m4\u001B[0m  \u001B[33mbeing\u001B[0m      VerbForm=Ger\u001B[0m\n",
      " ╰─┾       \u001B[32m5\u001B[0m  \u001B[33mrun\u001B[0m        Tense=Past|VerbForm=Part|Voice=Pass\u001B[0m\n",
      "   │ ╭─╼   \u001B[32m6\u001B[0m  \u001B[33mby\u001B[0m         _\u001B[0m\n",
      "   │ ┢─╼   \u001B[32m7\u001B[0m  \u001B[33mthe\u001B[0m        Definite=Def|PronType=Art\u001B[0m\n",
      "   ┡─┾     \u001B[32m8\u001B[0m  \u001B[33mhead\u001B[0m       Number=Sing\u001B[0m\n",
      "   │ │ ╭─╼ \u001B[32m9\u001B[0m  \u001B[33mof\u001B[0m         _\u001B[0m\n",
      "   │ │ ┢─╼ \u001B[32m10\u001B[0m \u001B[33man\u001B[0m         Definite=Ind|PronType=Art\u001B[0m\n",
      "   │ │ ┢─╼ \u001B[32m11\u001B[0m \u001B[33minvestment\u001B[0m Number=Sing\u001B[0m\n",
      "   │ ╰─┶   \u001B[32m12\u001B[0m \u001B[33mfirm\u001B[0m       Number=Sing\u001B[0m\n",
      "   ╰─╼     \u001B[32m13\u001B[0m \u001B[33m.\u001B[0m          _\u001B[0m\n"
     ]
    }
   ],
   "source": [
    "doc[5].draw(layout=\"align\", attributes=\"ord,form,feats\")"
   ]
  },
  {
   "cell_type": "markdown",
   "metadata": {},
   "source": [
    "# Document representation in Udapi\n",
    "\n",
    "Udapi [document](https://github.com/udapi/udapi-python/blob/master/udapi/core/document.py) consists of a sequence of so-called *bundles*, mirroring a sequence of sentences in a typical natural language text.\n",
    "\n",
    "A [bundle](https://github.com/udapi/udapi-python/blob/master/udapi/core/bundle.py) corresponds to a sentence,\n",
    "possibly in multiple versions or with different representations, such as sentence-tuples from parallel corpora, or paraphrases in the same language or alternative analyses (e.g. parses produced by different parsers). If there are more trees in a bundle, they must be distinguished by a so-called *zone* (a label which contains the language code).\n",
    "\n",
    "Each tree is represented by a special (artificial) [root](https://github.com/udapi/udapi-python/blob/master/udapi/core/root.py) node, which is added to the top of a CoNLL-U tree in the Udapi model. The root node bears the ID of a given tree/sentence (`sent_id`) and its word order (`ord`) is 0. Technically, Root is subclass of Node, with some extra methods.\n",
    "\n",
    "The [Node](https://github.com/udapi/udapi-python/blob/master/udapi/core/node.py) class corresponds to a node\n",
    "of a dependency tree. It provides access to all the CoNLL-U-defined attributes (`ord`, `form`, `lemma`, `upos`, `xpos`, `feats`, `deprel`, `deps`, `misc`). There are methods for tree traversal (`parent`, `root`, `children`, `descendants`); word-order traversal (`next_node`, `prev_node`); tree manipulation (`parent` setter) including word-order changes (`shift_after_node(x)`, `shift_before_subtree(x)`, etc.); and utility methods: `is_descendant_of(x)`, `is_nonprojective()`, `precedes(x)`, `is_leaf()`, `is_root()`, `get_attrs([])`, `compute_text()`, `draw()`.\n",
    "\n",
    "## Exercise 1: Count prepositions and postpositions\n",
    "[Prepositions and postpositions](https://en.wikipedia.org/wiki/Preposition_and_postposition) are together called *adpositions* and assigned the [ADP](https://universaldependencies.org/u/pos/ADP.html) universal part-of-speech tag (`upos`) in UD. Some languages (e.g. English) use mostly prepositions, others mostly postpositions.\n",
    "* Do you know any English postpositions?\n",
    "* Guess the typical adposition type (i.e. whether a given language uses more prepositions or postpositions) for at least 10 languages of your choice (from those in UD2.0).\n",
    "* Complete the following code and find out how many prepositions and postpositions are in `UD_English/sample.conllu` (which has been loaded into `doc`)."
   ]
  },
  {
   "cell_type": "code",
   "execution_count": null,
   "metadata": {},
   "outputs": [],
   "source": [
    "prepositions, postpositions = 0, 0\n",
    "# Iterate over all nodes in the document (in all trees)\n",
    "for node in doc.nodes:\n",
    "    if node.upos == \"ADP\":\n",
    "        # TODO: fix this code to actually distinguish prepositions and postpositions\n",
    "        prepositions += 1\n",
    "# Print the results\n",
    "prepositions, postpositions"
   ]
  },
  {
   "cell_type": "markdown",
   "metadata": {},
   "source": [
    "If you don't know how to proceed click on the following hints.\n",
    "<details><summary>Hint 1:</summary>\n",
    "In some dependency grammars, adpositions govern noun (i.e. adposition is the *parent* of a given noun node). In other dependency grammars, adpositions depend on nouns (i.e. noun is the *parent* of a given adposition). Find out which style is being used by UD. Check <a href=\"https://universaldependencies.org/u/overview/syntax.html\">the UD documentation</a> or inspect some of the tree visualizations and guess.\n",
    "</details>\n",
    "<details><summary>Hint 2:</summary>\n",
    "See the <a href=\"https://udapi.readthedocs.io/en/latest/udapi.core.html#module-udapi.core.node\">Node documentation</a> and find out how to obtain dependency parent and dependency children. Note that these are properties of a given node, rather than methods, so you should not write parentheses () after the property name.\n",
    "</details>\n",
    "<details><summary>Hint 3:</summary>\n",
    "<code>doc.nodes</code> iterates over all nodes in the document sorted by the word order, but this would be cumbersome to exploit. Find a method of <code>Node</code> to detect the relative word order of two nodes (within the same tree/sentence).\n",
    "</details>\n",
    "<details><summary>Hint 4:</summary>\n",
    "Use <code>node.parent</code> and <code>node.precedes(another_node)</code>.\n",
    "The latter is a shortcut for <code>node.ord &lt; another_node.ord</code>.\n",
    "</details>\n",
    "<details><summary>Solution:</summary>\n",
    "<pre>\n",
    "for node in doc.nodes:\n",
    "    if node.upos == \"ADP\":\n",
    "        if node.precedes(node.parent):\n",
    "            prepositions += 1\n",
    "        else:\n",
    "            postpositions += 1\n",
    "</pre>\n",
    "</details>\n"
   ]
  },
  {
   "cell_type": "markdown",
   "metadata": {},
   "source": [
    "## Exercise 2: Explore English postpositions\n",
    "The previous exercise indicates there are 7 occurrences of postpositions in the English sample. Find these 7 occurrences and visualize them using `node.draw()`. Count which adpositions (`lemma`) with which dependency relations (`deprel`) are responsible for these occurrences. Recompute these statistics on the bigger English training data. Can you explain these occurrences? What are the reasons? Is any occurrence an annotation error?"
   ]
  },
  {
   "cell_type": "code",
   "execution_count": null,
   "metadata": {},
   "outputs": [],
   "source": [
    "# For the statistics, you may find useful: count[\"any string\"] += 1\n",
    "import collections\n",
    "count = collections.Counter()\n",
    "big_doc = udapi.Document(\"UD_English/train.conllu\")\n",
    "\n",
    "for node in doc.nodes:\n",
    "    # TODO detect postposition\n",
    "    pass\n",
    "\n",
    "# Print the statistics\n",
    "count.most_common()"
   ]
  },
  {
   "cell_type": "markdown",
   "metadata": {},
   "source": [
    "<details><summary>Solution 1:</summary>\n",
    "<pre>\n",
    "for node in doc.nodes:\n",
    "    if node.upos == \"ADP\" and node.parent.precedes(node):\n",
    "        node.parent.draw()\n",
    "        count[node.lemma + \" \" + node.deprel] += 1\n",
    "</pre>\n",
    "</details>\n",
    "<details><summary>Hint 1:</summary>\n",
    "We can see there are many particles of phrase verbs, e.g. \"busted up\".\n",
    "These seem to be correctly annotated as <code>ADP</code> according to the UD guidelines.\n",
    "Let's filter out those cases and focus on the rest and let's switch to the big train data.\n",
    "</details>\n",
    "<details><summary>Solution 2:</summary>\n",
    "<pre>\n",
    "count = collections.Counter()\n",
    "for node in big_doc.nodes:\n",
    "    if node.upos == \"ADP\" and node.parent.precedes(node) and node.parent.upos != \"VERB\":\n",
    "        count[node.lemma + \" \" + node.deprel] += 1\n",
    "count.most_common()\n",
    "</pre>\n",
    "Alternatively to <code>node.parent.upos != \"VERB\"</code>,\n",
    "you could also filter out <code>node.deprel != \"compound:prt\"</code>,\n",
    "or directly focus on <code>node.deprel == \"case\"</code>\n",
    "</details>\n",
    "<details><summary>Partial answer:</summary>\n",
    "Most of the occurrences are actually annotated correctly,\n",
    "although they are not typically considered as postpositions.\n",
    "For example, <code>node.deprel == \"fixed\"</code> is being used for multi-word adpositions,\n",
    "such as \"because of\", where \"of\" depends on \"because\" from technical (and consistency) reasons,\n",
    "but the whole multi-word adpositions precedes its governing nound, so it is actually a multi-word preposition.\n",
    "\n",
    "What about the remaining occurrences, after filtering out <code>node.deprel not in {\"compound:prt\", \"fixed\"}</code>?\n",
    "</details>"
   ]
  },
  {
   "cell_type": "markdown",
   "metadata": {},
   "source": [
    "In the next tutorial, 02-blocks.ipynb (not finished yet), we will explore several useful Udapi blocks, some of which may be handy when working further on Exercise 2 or similar tasks."
   ]
  }
 ],
 "metadata": {
  "kernelspec": {
   "display_name": "Python 3",
   "language": "python",
   "name": "python3"
  },
  "language_info": {
   "codemirror_mode": {
    "name": "ipython",
    "version": 3
   },
   "file_extension": ".py",
   "mimetype": "text/x-python",
   "name": "python",
   "nbconvert_exporter": "python",
   "pygments_lexer": "ipython3",
   "version": "3.6.9"
  }
 },
 "nbformat": 4,
 "nbformat_minor": 4
}
